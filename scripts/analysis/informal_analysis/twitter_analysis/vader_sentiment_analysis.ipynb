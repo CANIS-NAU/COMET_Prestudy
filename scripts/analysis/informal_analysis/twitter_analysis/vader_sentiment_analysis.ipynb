{
 "cells": [
  {
   "cell_type": "code",
   "execution_count": null,
   "metadata": {},
   "outputs": [],
   "source": [
    "# Run through each each cleaned post and run VADER Sentiment analysis "
   ]
  },
  {
   "cell_type": "code",
   "execution_count": null,
   "metadata": {},
   "outputs": [],
   "source": [
    "import pandas as pd\n",
    "\n",
    "# Temp file path\n",
    "filepath = \"/home/quinton/Documents/COMET_data/twitter_comet/Twts1722-Labeled-k5k10-Cos-Euc-METADATA.csv\"\n",
    "\n",
    "# Load the data\n",
    "twitter_data = pd.read_csv(filepath)\n",
    "\n",
    "twitter_data.head()"
   ]
  },
  {
   "cell_type": "markdown",
   "metadata": {},
   "source": [
    "# Run through vader, adding new column with sentiment data"
   ]
  },
  {
   "cell_type": "code",
   "execution_count": null,
   "metadata": {},
   "outputs": [],
   "source": [
    "from vaderSentiment.vaderSentiment import SentimentIntensityAnalyzer\n",
    "\n",
    "analyzer = SentimentIntensityAnalyzer()\n",
    "\n",
    "twitter_data[\"sentiment\"] = twitter_data.apply(lambda row: analyzer.polarity_scores(str(row[\"clntxt\"])), axis=1)\n",
    "\n",
    "twitter_data = pd.concat([twitter_data.drop(\"sentiment\", axis=1), pd.json_normalize(twitter_data[\"sentiment\"])], axis=1)\n",
    "\n",
    "twitter_data\n"
   ]
  },
  {
   "cell_type": "code",
   "execution_count": null,
   "metadata": {},
   "outputs": [],
   "source": [
    "import math\n",
    "import seaborn as sns\n",
    "import matplotlib.pyplot as plt\n",
    "\n",
    "sns.set_theme()\n",
    "sns.set_style(\"whitegrid\")\n",
    "sns.set_style(\"ticks\")\n",
    "\n",
    "\n",
    "tdata_neu = twitter_data[(twitter_data[\"compound\"] == 0)].index\n",
    "tdata_neu_normalized = twitter_data.drop(tdata_neu)\n",
    "tdata_neu_counts = tdata_neu.size\n",
    "tdata_tot_counts = twitter_data[\"id\"].size\n",
    "proportion_of_neutral = tdata_neu_counts/tdata_tot_counts\n",
    "\n",
    "##### Other visualizations ######\n",
    "#sns.swarmplot(data=twitter_data, x=\"5\", y=\"compound\", color=\"k\", size=3, ax=g.ax)\n",
    "\n",
    "\n",
    "# TODO create timeline of all tweets (binned by month)\n",
    "\n",
    "# Proportion of neutral posts to total post counts\n",
    "print(\"Proportion of neutral posts to total post counts: \", proportion_of_neutral, \"\\n\", tdata_neu_counts, \"total tweets removed\")\n",
    "\n",
    "# Plot with neutral values removed\n",
    "sns.displot(tdata_neu_normalized, x=\"compound\", hue=\"5\", kind=\"kde\", palette=\"husl\").legend.set_title(\"Cluster ID\")\n",
    "sns.displot(tdata_neu_normalized, x=\"compound\", hue=\"5\", kind=\"ecdf\", palette=\"husl\").legend.set_title(\"Cluster ID\")\n",
    "sns.catplot(data=tdata_neu_normalized, x=\"5\", y=\"compound\", kind=\"box\").set(xlabel=\"Cluster ID\", ylabel=\"VADER Compound Sentiment Score\")\n",
    "sns.catplot(data=tdata_neu_normalized, x=\"5\", y=\"compound\", kind=\"violin\")\n",
    "\n",
    "# Plot with neutral included\n",
    "sns.displot(twitter_data, x=\"compound\", hue=\"5\", kind=\"kde\", palette=\"husl\").legend.set_title(\"Cluster ID\")\n",
    "sns.catplot(data=twitter_data, x=\"5\", y=\"compound\", kind=\"box\").set(xlabel=\"Cluster ID\", ylabel=\"VADER Compound Sentiment Score\")\n",
    "sns.catplot(data=twitter_data, x=\"5\", y=\"compound\", kind=\"violin\")\n",
    "\n",
    "\n",
    "plt.show()\n",
    "\n",
    "# plt.legend(title=\"Cluster ID\")\n",
    "\n",
    "\n",
    "\n"
   ]
  }
 ],
 "metadata": {
  "kernelspec": {
   "display_name": "Python 3.10.6 ('comet')",
   "language": "python",
   "name": "python3"
  },
  "language_info": {
   "codemirror_mode": {
    "name": "ipython",
    "version": 3
   },
   "file_extension": ".py",
   "mimetype": "text/x-python",
   "name": "python",
   "nbconvert_exporter": "python",
   "pygments_lexer": "ipython3",
   "version": "3.10.6"
  },
  "orig_nbformat": 4,
  "vscode": {
   "interpreter": {
    "hash": "3f4b5714a7c56dd44b8cb5ff471a2434f89515e6c0daec40bb71d43c5b30bc0e"
   }
  }
 },
 "nbformat": 4,
 "nbformat_minor": 2
}
