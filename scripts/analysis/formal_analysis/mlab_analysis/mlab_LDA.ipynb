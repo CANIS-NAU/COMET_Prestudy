{
 "cells": [
  {
   "cell_type": "markdown",
   "metadata": {},
   "source": [
    "## Set the path of where the csv files are located, as well as initial import statements"
   ]
  },
  {
   "cell_type": "code",
   "execution_count": null,
   "metadata": {},
   "outputs": [],
   "source": [
    "csv_data_path = \"/Users/quinton/Documents/Projects/COMET_Prestudy/scripts/collection/formal_scripts/output_data_mlab_01_2017.csv\" # **PLACE CSV FILEPATH HERE**\n",
    "sep = \"\\t\" # csv delimiter used\n",
    "small_model = False # use smaller ML model for better performance, less accuracy"
   ]
  },
  {
   "cell_type": "code",
   "execution_count": null,
   "metadata": {},
   "outputs": [],
   "source": [
    "from pathlib import Path \n",
    "import pandas as pd\n",
    "import numpy as np\n",
    "from pprint import pprint\n",
    "\n",
    "# Gensim imports\n",
    "import gensim\n",
    "import gensim.corpora as corpora\n",
    "from gensim.utils import simple_preprocess\n",
    "from gensim.models import CoherenceModel\n",
    "\n",
    "# spacy\n",
    "import spacy\n",
    "import nltk\n",
    "nltk.download('stopwords')\n",
    "from nltk.corpus import stopwords\n",
    "\n",
    "# visualization\n",
    "import pyLDAvis\n",
    "import pyLDAvis.gensim_models"
   ]
  },
  {
   "cell_type": "markdown",
   "metadata": {},
   "source": [
    "## Functions to handle data loading and data writing"
   ]
  },
  {
   "cell_type": "code",
   "execution_count": null,
   "metadata": {},
   "outputs": [],
   "source": [
    "def load_data(filename) -> pd.DataFrame:\n",
    "    filename = Path(filename)\n",
    "    if not filename.is_file():\n",
    "        raise FileNotFoundError\n",
    "\n",
    "    with open(filename.resolve(), 'r', encoding='utf-8') as file:\n",
    "        data = pd.read_csv(file, sep=sep)\n",
    "    return data\n",
    "\n",
    "def load_data_by_year(directory: Path) -> pd.DataFrame:\n",
    "    for data_file in Path.glob(Path.joinpath(directory, '*.csv')):\n",
    "            yield load_data(data_file.resolve())\n",
    "\n",
    "def write_data(filename: Path, data: pd.DataFrame):\n",
    "    with open(filename.as_uri(), 'w', encoding='utf-8') as f:\n",
    "        data.to_csv(f, sep=sep)\n"
   ]
  },
  {
   "cell_type": "code",
   "execution_count": null,
   "metadata": {},
   "outputs": [],
   "source": [
    "# obtain the stop words\n",
    "stopwords = stopwords.words(\"english\")\n",
    "stopwords=stopwords + ['thank', 'well', 'then', 'go', 'way', 'also']\n",
    "stopwords"
   ]
  },
  {
   "cell_type": "code",
   "execution_count": null,
   "metadata": {},
   "outputs": [],
   "source": [
    "data = load_data(csv_data_path)['content']\n",
    "data.head()"
   ]
  },
  {
   "cell_type": "markdown",
   "metadata": {},
   "source": [
    "# Content Preprocessing"
   ]
  },
  {
   "cell_type": "code",
   "execution_count": null,
   "metadata": {},
   "outputs": [],
   "source": [
    "def lemmatize(posts: pd.DataFrame, allowed_post_tags=[\"NOUN\", \"ADJ\", \"VERB\", \"ADV\"]):\n",
    "    nlp = spacy.load(\"en_core_web_sm\" if small_model else \"en_core_web_trf\", disable=[\"parser\", 'ner'])\n",
    "    texts_out = []\n",
    "\n",
    "    for post in posts:\n",
    "        doc = nlp(post)\n",
    "        new_text = []\n",
    "        for token in doc:\n",
    "            if token.pos_ in allowed_post_tags:\n",
    "                new_text.append(token.lemma_)\n",
    "        final = ' '.join(new_text)\n",
    "        texts_out.append(final)\n",
    "    return texts_out\n",
    "\n",
    "lemmatized_data = lemmatize(data.astype(str))\n",
    "lemmatized_data"
   ]
  },
  {
   "cell_type": "code",
   "execution_count": null,
   "metadata": {},
   "outputs": [],
   "source": [
    "def tokenize_lemma(posts: list):\n",
    "    final = []\n",
    "    for post in posts:\n",
    "        new = gensim.utils.simple_preprocess(post, deacc=True)\n",
    "        final.append(new)\n",
    "    return final\n",
    "\n",
    "tokenized_data = tokenize_lemma(lemmatized_data)\n",
    "\n",
    "data = [[word for word in phrase if word not in stopwords] for phrase in tokenized_data]\n",
    "data"
   ]
  },
  {
   "cell_type": "markdown",
   "metadata": {},
   "source": [
    "# Generate bigrams/trigrams "
   ]
  },
  {
   "cell_type": "code",
   "execution_count": null,
   "metadata": {},
   "outputs": [],
   "source": [
    "bigrams_phrases = gensim.models.Phrases(data, min_count=5, threshold=100)\n",
    "trigram_phrases = gensim.models.Phrases(bigrams_phrases[data], threshold=100)\n",
    "\n",
    "bigram = gensim.models.phrases.Phraser(bigrams_phrases)\n",
    "trigram = gensim.models.phrases.Phraser(trigram_phrases)\n",
    "\n",
    "def make_bigrams(texts):\n",
    "    return (bigram[doc] for doc in texts)\n",
    "\n",
    "def make_trigrams(texts):\n",
    "    return (trigram[bigram[doc]] for doc in texts)\n",
    "\n",
    "data_bigrams = make_bigrams(data)\n",
    "data_bigrams_trigrams = make_trigrams(data_bigrams)\n",
    "bgtg = list(data_bigrams_trigrams)\n",
    "bgtg"
   ]
  },
  {
   "cell_type": "markdown",
   "metadata": {},
   "source": [
    "## TF-IDF non-useful common word removal"
   ]
  },
  {
   "cell_type": "code",
   "execution_count": null,
   "metadata": {},
   "outputs": [],
   "source": [
    "from gensim.models import TfidfModel\n",
    "\n",
    "id2word = corpora.Dictionary(bgtg)\n",
    "corpus = [id2word.doc2bow(text) for text in bgtg]\n",
    "\n",
    "corpus\n",
    "\n",
    "tfidf = TfidfModel(corpus=corpus, id2word=id2word, )\n",
    "\n",
    "low_value = 0.03\n",
    "words = []\n",
    "words_missing_tfidf = []\n",
    "for iter in range(0,len(corpus)):\n",
    "    bow = corpus[iter]\n",
    "    low_value_words = []\n",
    "    tfidf_ids = [id for id, value in tfidf[bow]]\n",
    "    bow_ids = [id for id, value in bow]\n",
    "    low_value_words = [id for id, value in tfidf[bow] if value < low_value]\n",
    "    drops = low_value_words+words_missing_tfidf\n",
    "    for item in drops:\n",
    "        words.append(id2word[item])\n",
    "    words_missing_tfidf = [id for id in bow_ids if id not in tfidf_ids]\n",
    "\n",
    "    new_bow = [b for b in bow if b[0] not in low_value_words and b[0] not in words_missing_tfidf]\n",
    "    corpus[iter] = new_bow"
   ]
  },
  {
   "cell_type": "markdown",
   "metadata": {},
   "source": [
    "# Generate id2word dictionary"
   ]
  },
  {
   "cell_type": "code",
   "execution_count": null,
   "metadata": {},
   "outputs": [],
   "source": [
    "# deprecated since tf-idf implementation\n",
    "# id2word = corpora.Dictionary(bgtg)\n",
    "\n",
    "# corpus = []\n",
    "\n",
    "# for text in bgtg:\n",
    "#     new = id2word.doc2bow(text)\n",
    "#     corpus.append(new)\n",
    "\n",
    "# corpus"
   ]
  },
  {
   "cell_type": "markdown",
   "metadata": {},
   "source": [
    "# LDA Visualization"
   ]
  },
  {
   "cell_type": "code",
   "execution_count": null,
   "metadata": {},
   "outputs": [],
   "source": [
    "lda_model = gensim.models.ldamodel.LdaModel(corpus=corpus, id2word=id2word, num_topics=7,\n",
    "random_state=100, update_every=0, chunksize=100, passes=10, alpha=\"auto\")"
   ]
  },
  {
   "cell_type": "code",
   "execution_count": null,
   "metadata": {},
   "outputs": [],
   "source": [
    "pyLDAvis.enable_notebook()\n",
    "vis = pyLDAvis.gensim_models.prepare(lda_model, corpus, id2word, mds='mmds', R=30)\n",
    "vis"
   ]
  }
 ],
 "metadata": {
  "kernelspec": {
   "display_name": "Python 3.9.13 ('.venv': poetry)",
   "language": "python",
   "name": "python3"
  },
  "language_info": {
   "codemirror_mode": {
    "name": "ipython",
    "version": 3
   },
   "file_extension": ".py",
   "mimetype": "text/x-python",
   "name": "python",
   "nbconvert_exporter": "python",
   "pygments_lexer": "ipython3",
   "version": "3.9.13"
  },
  "orig_nbformat": 4,
  "vscode": {
   "interpreter": {
    "hash": "15adf4dcafc65860b2f7f069f0d9f515b7881e289c328dc2333f443a727a35eb"
   }
  }
 },
 "nbformat": 4,
 "nbformat_minor": 2
}
