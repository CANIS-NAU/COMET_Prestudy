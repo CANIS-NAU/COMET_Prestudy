{
 "cells": [
  {
   "cell_type": "markdown",
   "metadata": {},
   "source": [
    "## Set the path of where the csv files are located, as well as initial import statements"
   ]
  },
  {
   "cell_type": "code",
   "execution_count": 1,
   "metadata": {},
   "outputs": [],
   "source": [
    "csv_data_path = \"/home/quinton/Documents/Projects/COMET_Prestudy/scripts/collection/formal_scripts/output_data_mlab_01_2017.csv\" # **PLACE CSV FILEPATH HERE**\n",
    "sep = \"\\t\" # csv delimiter used\n",
    "small_model = False # use smaller ML model for better performance, less accuracy"
   ]
  },
  {
   "cell_type": "code",
   "execution_count": 2,
   "metadata": {},
   "outputs": [
    {
     "name": "stderr",
     "output_type": "stream",
     "text": [
      "[nltk_data] Downloading package stopwords to\n",
      "[nltk_data]     /home/quinton/nltk_data...\n",
      "[nltk_data]   Package stopwords is already up-to-date!\n",
      "/home/quinton/Documents/Projects/COMET_Prestudy/scripts/analysis/.venv/lib/python3.9/site-packages/past/builtins/misc.py:45: DeprecationWarning: the imp module is deprecated in favour of importlib; see the module's documentation for alternative uses\n",
      "  from imp import reload\n"
     ]
    }
   ],
   "source": [
    "from pathlib import Path \n",
    "import pandas as pd\n",
    "import numpy as np\n",
    "\n",
    "# Gensim imports\n",
    "import gensim\n",
    "import gensim.corpora as corpora\n",
    "from gensim.utils import simple_preprocess\n",
    "from gensim.models import CoherenceModel\n",
    "\n",
    "# spacy\n",
    "import spacy\n",
    "import nltk\n",
    "nltk.download('stopwords')\n",
    "from nltk.corpus import stopwords\n",
    "\n",
    "# visualization\n",
    "import pyLDAvis\n",
    "import pyLDAvis.gensim_models"
   ]
  },
  {
   "cell_type": "markdown",
   "metadata": {},
   "source": [
    "## Functions to handle data loading and data writing"
   ]
  },
  {
   "cell_type": "code",
   "execution_count": 3,
   "metadata": {},
   "outputs": [],
   "source": [
    "def load_data(filename) -> pd.DataFrame:\n",
    "    filename = Path(filename)\n",
    "    if not filename.is_file():\n",
    "        raise FileNotFoundError\n",
    "\n",
    "    with open(filename.resolve(), 'r', encoding='utf-8') as file:\n",
    "        data = pd.read_csv(file, sep=sep)\n",
    "    return data\n",
    "\n",
    "def load_data_by_year(directory: Path) -> pd.DataFrame:\n",
    "    for data_file in Path.glob(Path.joinpath(directory, '*.csv')):\n",
    "            yield load_data(data_file.resolve())\n",
    "\n",
    "def write_data(filename: Path, data: pd.DataFrame):\n",
    "    with open(filename.as_uri(), 'w', encoding='utf-8') as f:\n",
    "        data.to_csv(f, sep=sep)\n"
   ]
  },
  {
   "cell_type": "code",
   "execution_count": 4,
   "metadata": {},
   "outputs": [
    {
     "data": {
      "text/plain": [
       "['i', 'me', 'my', 'myself', 'we', 'our', 'ours', 'ourselves', 'you', \"you're\"]"
      ]
     },
     "execution_count": 4,
     "metadata": {},
     "output_type": "execute_result"
    }
   ],
   "source": [
    "# obtain the stop words\n",
    "stopwords = stopwords.words(\"english\")\n",
    "stopwords[:10]"
   ]
  },
  {
   "cell_type": "code",
   "execution_count": 5,
   "metadata": {},
   "outputs": [
    {
     "data": {
      "text/plain": [
       "0    Hi,  I'm looking for monthly average mobile do...\n",
       "1    The latest ookla speedtest app (just for apple...\n",
       "2    We had some unusual results come back today fr...\n",
       "3    Hi there,  I am working with a group that is i...\n",
       "4    Hi, It looks like the -server option in ndt7-c...\n",
       "Name: content, dtype: object"
      ]
     },
     "execution_count": 5,
     "metadata": {},
     "output_type": "execute_result"
    }
   ],
   "source": [
    "data = load_data(csv_data_path)['content']\n",
    "data.head()"
   ]
  },
  {
   "cell_type": "markdown",
   "metadata": {},
   "source": [
    "# Content Preprocessing"
   ]
  },
  {
   "cell_type": "code",
   "execution_count": 6,
   "metadata": {},
   "outputs": [
    {
     "name": "stderr",
     "output_type": "stream",
     "text": [
      "/home/quinton/Documents/Projects/COMET_Prestudy/scripts/analysis/.venv/lib/python3.9/site-packages/torch/autocast_mode.py:162: UserWarning: User provided device_type of 'cuda', but CUDA is not available. Disabling\n",
      "  warnings.warn('User provided device_type of \\'cuda\\', but CUDA is not available. Disabling')\n",
      "Token indices sequence length is longer than the specified maximum sequence length for this model (663 > 512). Running this sequence through the model will result in indexing errors\n"
     ]
    },
    {
     "data": {
      "text/plain": [
       "'look month'"
      ]
     },
     "execution_count": 6,
     "metadata": {},
     "output_type": "execute_result"
    }
   ],
   "source": [
    "def lemmatize(posts: pd.DataFrame, allowed_post_tags=[\"NOUN\", \"ADJ\", \"VERB\", \"ADV\"]):\n",
    "    nlp = spacy.load(\"en_core_web_sm\" if small_model else \"en_core_web_trf\", disable=[\"parser\", 'ner'])\n",
    "    texts_out = []\n",
    "\n",
    "    for post in posts:\n",
    "        doc = nlp(post)\n",
    "        new_text = []\n",
    "        for token in doc:\n",
    "            if token.pos_ in allowed_post_tags:\n",
    "                new_text.append(token.lemma_)\n",
    "        final = ' '.join(new_text)\n",
    "        texts_out.append(final)\n",
    "    return texts_out\n",
    "\n",
    "lemmatized_data = lemmatize(data.astype(str))\n",
    "lemmatized_data[0][:10]"
   ]
  },
  {
   "cell_type": "code",
   "execution_count": 7,
   "metadata": {},
   "outputs": [
    {
     "data": {
      "text/plain": [
       "['look',\n",
       " 'monthly',\n",
       " 'average',\n",
       " 'mobile',\n",
       " 'download',\n",
       " 'speed',\n",
       " 'datum',\n",
       " 'country',\n",
       " 'specifcally',\n",
       " 'onwards']"
      ]
     },
     "execution_count": 7,
     "metadata": {},
     "output_type": "execute_result"
    }
   ],
   "source": [
    "def tokenize_lemma(posts: list):\n",
    "    final = []\n",
    "    for post in posts:\n",
    "        new = gensim.utils.simple_preprocess(post, deacc=True, max_len=512)\n",
    "        final.append(new)\n",
    "    return final\n",
    "\n",
    "tokenized_data = tokenize_lemma(lemmatized_data)\n",
    "tokenized_data[0][:10]"
   ]
  },
  {
   "cell_type": "markdown",
   "metadata": {},
   "source": [
    "# Generate id2word dictionary"
   ]
  },
  {
   "cell_type": "code",
   "execution_count": 8,
   "metadata": {},
   "outputs": [
    {
     "data": {
      "text/plain": [
       "[(0, 1),\n",
       " (1, 1),\n",
       " (2, 1),\n",
       " (3, 1),\n",
       " (4, 1),\n",
       " (5, 2),\n",
       " (6, 1),\n",
       " (7, 1),\n",
       " (8, 1),\n",
       " (9, 1)]"
      ]
     },
     "execution_count": 8,
     "metadata": {},
     "output_type": "execute_result"
    }
   ],
   "source": [
    "id2word = corpora.Dictionary(tokenized_data)\n",
    "\n",
    "corpus = []\n",
    "\n",
    "for text in tokenized_data:\n",
    "    new = id2word.doc2bow(text)\n",
    "    corpus.append(new)\n",
    "\n",
    "corpus[0][:10]"
   ]
  },
  {
   "cell_type": "markdown",
   "metadata": {},
   "source": [
    "# LDA Visualization"
   ]
  },
  {
   "cell_type": "code",
   "execution_count": 9,
   "metadata": {},
   "outputs": [],
   "source": [
    "lda_model = gensim.models.ldamodel.LdaModel(corpus=corpus, id2word=id2word, num_topics=12,\n",
    "random_state=100, update_every=1, chunksize=100, passes=10, alpha=\"auto\")"
   ]
  },
  {
   "cell_type": "code",
   "execution_count": 10,
   "metadata": {},
   "outputs": [
    {
     "name": "stdout",
     "output_type": "stream",
     "text": [
      "huggingface/tokenizers: The current process just got forked, after parallelism has already been used. Disabling parallelism to avoid deadlocks...\n",
      "To disable this warning, you can either:\n",
      "\t- Avoid using `tokenizers` before the fork if possible\n",
      "\t- Explicitly set the environment variable TOKENIZERS_PARALLELISM=(true | false)\n"
     ]
    },
    {
     "name": "stderr",
     "output_type": "stream",
     "text": [
      "/home/quinton/Documents/Projects/COMET_Prestudy/scripts/analysis/.venv/lib/python3.9/site-packages/pyLDAvis/_prepare.py:246: FutureWarning: In a future version of pandas all arguments of DataFrame.drop except for the argument 'labels' will be keyword-only.\n",
      "  default_term_info = default_term_info.sort_values(\n"
     ]
    },
    {
     "name": "stdout",
     "output_type": "stream",
     "text": [
      "huggingface/tokenizers: The current process just got forked, after parallelism has already been used. Disabling parallelism to avoid deadlocks...\n",
      "To disable this warning, you can either:\n",
      "\t- Avoid using `tokenizers` before the fork if possible\n",
      "\t- Explicitly set the environment variable TOKENIZERS_PARALLELISM=(true | false)\n",
      "huggingface/tokenizers: The current process just got forked, after parallelism has already been used. Disabling parallelism to avoid deadlocks...\n",
      "To disable this warning, you can either:\n",
      "\t- Avoid using `tokenizers` before the fork if possible\n",
      "\t- Explicitly set the environment variable TOKENIZERS_PARALLELISM=(true | false)\n",
      "huggingface/tokenizers: The current process just got forked, after parallelism has already been used. Disabling parallelism to avoid deadlocks...\n",
      "To disable this warning, you can either:\n",
      "\t- Avoid using `tokenizers` before the fork if possible\n",
      "\t- Explicitly set the environment variable TOKENIZERS_PARALLELISM=(true | false)\n",
      "huggingface/tokenizers: The current process just got forked, after parallelism has already been used. Disabling parallelism to avoid deadlocks...\n",
      "To disable this warning, you can either:\n",
      "\t- Avoid using `tokenizers` before the fork if possible\n",
      "\t- Explicitly set the environment variable TOKENIZERS_PARALLELISM=(true | false)\n",
      "huggingface/tokenizers: The current process just got forked, after parallelism has already been used. Disabling parallelism to avoid deadlocks...\n",
      "huggingface/tokenizers: The current process just got forked, after parallelism has already been used. Disabling parallelism to avoid deadlocks...\n",
      "To disable this warning, you can either:\n",
      "\t- Avoid using `tokenizers` before the fork if possible\n",
      "\t- Explicitly set the environment variable TOKENIZERS_PARALLELISM=(true | false)\n",
      "To disable this warning, you can either:\n",
      "\t- Avoid using `tokenizers` before the fork if possible\n",
      "\t- Explicitly set the environment variable TOKENIZERS_PARALLELISM=(true | false)\n",
      "huggingface/tokenizers: The current process just got forked, after parallelism has already been used. Disabling parallelism to avoid deadlocks...\n",
      "To disable this warning, you can either:\n",
      "\t- Avoid using `tokenizers` before the fork if possible\n",
      "\t- Explicitly set the environment variable TOKENIZERS_PARALLELISM=(true | false)\n",
      "huggingface/tokenizers: The current process just got forked, after parallelism has already been used. Disabling parallelism to avoid deadlocks...\n",
      "To disable this warning, you can either:\n",
      "\t- Avoid using `tokenizers` before the fork if possible\n",
      "\t- Explicitly set the environment variable TOKENIZERS_PARALLELISM=(true | false)\n",
      "huggingface/tokenizers: The current process just got forked, after parallelism has already been used. Disabling parallelism to avoid deadlocks...\n",
      "To disable this warning, you can either:\n",
      "\t- Avoid using `tokenizers` before the fork if possible\n",
      "\t- Explicitly set the environment variable TOKENIZERS_PARALLELISM=(true | false)\n"
     ]
    },
    {
     "name": "stderr",
     "output_type": "stream",
     "text": [
      "/home/quinton/Documents/Projects/COMET_Prestudy/scripts/analysis/.venv/lib/python3.9/site-packages/past/builtins/misc.py:45: DeprecationWarning: the imp module is deprecated in favour of importlib; see the module's documentation for alternative uses\n",
      "  from imp import reload\n",
      "/home/quinton/Documents/Projects/COMET_Prestudy/scripts/analysis/.venv/lib/python3.9/site-packages/past/builtins/misc.py:45: DeprecationWarning: the imp module is deprecated in favour of importlib; see the module's documentation for alternative uses\n",
      "  from imp import reload\n",
      "/home/quinton/Documents/Projects/COMET_Prestudy/scripts/analysis/.venv/lib/python3.9/site-packages/past/builtins/misc.py:45: DeprecationWarning: the imp module is deprecated in favour of importlib; see the module's documentation for alternative uses\n",
      "  from imp import reload\n",
      "/home/quinton/Documents/Projects/COMET_Prestudy/scripts/analysis/.venv/lib/python3.9/site-packages/past/builtins/misc.py:45: DeprecationWarning: the imp module is deprecated in favour of importlib; see the module's documentation for alternative uses\n",
      "  from imp import reload\n",
      "/home/quinton/Documents/Projects/COMET_Prestudy/scripts/analysis/.venv/lib/python3.9/site-packages/past/builtins/misc.py:45: DeprecationWarning: the imp module is deprecated in favour of importlib; see the module's documentation for alternative uses\n",
      "  from imp import reload\n",
      "/home/quinton/Documents/Projects/COMET_Prestudy/scripts/analysis/.venv/lib/python3.9/site-packages/past/builtins/misc.py:45: DeprecationWarning: the imp module is deprecated in favour of importlib; see the module's documentation for alternative uses\n",
      "  from imp import reload\n",
      "/home/quinton/Documents/Projects/COMET_Prestudy/scripts/analysis/.venv/lib/python3.9/site-packages/past/builtins/misc.py:45: DeprecationWarning: the imp module is deprecated in favour of importlib; see the module's documentation for alternative uses\n",
      "  from imp import reload\n",
      "/home/quinton/Documents/Projects/COMET_Prestudy/scripts/analysis/.venv/lib/python3.9/site-packages/past/builtins/misc.py:45: DeprecationWarning: the imp module is deprecated in favour of importlib; see the module's documentation for alternative uses\n",
      "  from imp import reload\n"
     ]
    },
    {
     "data": {
      "text/html": [
       "\n",
       "<link rel=\"stylesheet\" type=\"text/css\" href=\"https://cdn.jsdelivr.net/gh/bmabey/pyLDAvis@3.3.1/pyLDAvis/js/ldavis.v1.0.0.css\">\n",
       "\n",
       "\n",
       "<div id=\"ldavis_el300841403530546622083298087358\"></div>\n",
       "<script type=\"text/javascript\">\n",
       "\n",
       "var ldavis_el300841403530546622083298087358_data = {\"mdsDat\": {\"x\": [-0.23658123487717908, -0.09285651521744144, -0.1655473316448535, -0.11504678904124829, 0.21256718659132343, 0.050172110643146105, 0.021030237847510486, -0.0278625135995679, 0.09588998027541942, 0.10300173429370854, 0.08101141027438831, 0.07422172445479425], \"y\": [-0.1440732068981108, 0.1914649303523254, -0.11209076908587431, 0.14582492281152346, -0.19364158256692446, -0.008180515165384523, 0.004744175849065954, -0.10851870260963323, 0.08054086553132905, 0.05768496546262032, 0.043751018527738564, 0.04249389779132513], \"topics\": [1, 2, 3, 4, 5, 6, 7, 8, 9, 10, 11, 12], \"cluster\": [1, 1, 1, 1, 1, 1, 1, 1, 1, 1, 1, 1], \"Freq\": [24.3401965651132, 21.203774544140664, 12.964781900562977, 11.92742019036324, 9.415534674360861, 7.928473970594204, 4.183685517709686, 4.052313478467107, 2.33895693879181, 1.2969409338887914, 0.2429021128237919, 0.10501917318367869]}, \"tinfo\": {\"Term\": [\"connection_spec\", \"client_geolocation\", \"country_code\", \"web\", \"test\", \"agent\", \"debug\", \"snap\", \"type\", \"speed\", \"body\", \"state\", \"internet\", \"wait_for_test_msg_or_test_finish\", \"system\", \"server\", \"client\", \"see\", \"run\", \"datum\", \"change\", \"result\", \"submission\", \"performance\", \"query\", \"paper\", \"research\", \"thank\", \"email\", \"pm\", \"table\", \"message\", \"client\", \"error\", \"set\", \"cause\", \"again\", \"week\", \"value\", \"api\", \"msec\", \"however\", \"column\", \"still\", \"awesome\", \"mlab\", \"add\", \"miss\", \"bit\", \"fail\", \"minimum\", \"ago\", \"step\", \"log\", \"power\", \"server\", \"instal\", \"geo\", \"figure\", \"defunct\", \"thank\", \"run\", \"access\", \"file\", \"try\", \"ndt\", \"available\", \"project\", \"get\", \"lab\", \"datum\", \"query\", \"help\", \"look\", \"use\", \"like\", \"issue\", \"group\", \"service\", \"find\", \"see\", \"test\", \"update\", \"measurement\", \"know\", \"also\", \"dataset\", \"system\", \"submission\", \"multimedia\", \"deadline\", \"view\", \"content\", \"continue\", \"publish\", \"conference\", \"video\", \"operation\", \"buffer\", \"cloud\", \"proceeding\", \"mailing\", \"pipeline\", \"software\", \"event\", \"accepted\", \"launch\", \"peer\", \"bug\", \"maintain\", \"notification\", \"domain\", \"submit\", \"camera\", \"machine\", \"industry\", \"chair\", \"process\", \"subject\", \"paper\", \"provide\", \"new\", \"dear\", \"interested\", \"interest\", \"community\", \"more\", \"topic\", \"open\", \"research\", \"date\", \"well\", \"update\", \"dataset\", \"th\", \"datum\", \"include\", \"call\", \"appear\", \"down\", \"number\", \"show\", \"medium\", \"document\", \"response\", \"mbp\", \"notice\", \"past\", \"factor\", \"detect\", \"cable\", \"broadband\", \"javascript\", \"laptop\", \"visit\", \"consumer\", \"sense\", \"deferent\", \"modernize\", \"steadily\", \"too\", \"later\", \"email\", \"ping\", \"default\", \"indicate\", \"thread\", \"partner\", \"expect\", \"site\", \"link\", \"always\", \"send\", \"receive\", \"just\", \"make\", \"second\", \"up\", \"limit\", \"easy\", \"test\", \"result\", \"write\", \"speed\", \"connection\", \"much\", \"time\", \"few\", \"use\", \"problem\", \"other\", \"network\", \"meeting\", \"book\", \"am\", \"apply\", \"visualization\", \"interesting\", \"workshop\", \"focus\", \"large\", \"metric\", \"topology\", \"helpful\", \"peering\", \"routing\", \"yesterday\", \"forward\", \"relate\", \"layer\", \"networking\", \"methodology\", \"dns\", \"traffic\", \"organization\", \"challenge\", \"applicant\", \"facilitate\", \"detection\", \"digital\", \"no\", \"condition\", \"internet\", \"discussion\", \"else\", \"guideline\", \"opportunity\", \"performance\", \"due\", \"research\", \"network\", \"include\", \"end\", \"call\", \"measurement\", \"know\", \"sure\", \"work\", \"here\", \"list\", \"question\", \"paper\", \"tool\", \"date\", \"well\", \"present\", \"connection_spec\", \"client_geolocation\", \"country_code\", \"snap\", \"duration\", \"web\", \"log_time\", \"downloadspeed\", \"between\", \"meg\", \"country_name\", \"null\", \"calculation\", \"is_explicitly_defined\", \"obviously\", \"partition_date\", \"pull\", \"data_direction\", \"quantiles\", \"a_num\", \"google\", \"order\", \"num\", \"download_mbps\", \"upload_mbps\", \"gather\", \"avg\", \"array_length\", \"rn\", \"congsignal\", \"asn\", \"region\", \"city\", \"select\", \"query\", \"average\", \"ndt\", \"state\", \"network\", \"lab\", \"agent\", \"debug\", \"body\", \"wait_for_test_msg_or_test_finish\", \"pm\", \"unsubscribe\", \"msg\", \"global\", \"type\", \"median\", \"wait_for_test_finalize\", \"easily\", \"throughput\", \"failure\", \"frequency\", \"big\", \"suggest\", \"likely\", \"origin\", \"believe\", \"fine\", \"greatly\", \"meet\", \"scale\", \"staging\", \"test_prepare\", \"port\", \"side\", \"flow\", \"appinfo\", \"state\", \"sec_to_timestamp\", \"stop\", \"utc\", \"variable\", \"month\", \"connection\", \"country\", \"calculate\", \"group\", \"discuss\", \"send\", \"select\", \"date\", \"traceroute\", \"thank\", \"server\", \"correct\", \"couple\", \"interconnection\", \"increase\", \"congestion\", \"publication\", \"variation\", \"hopefully\", \"sec\", \"episode\", \"filing\", \"regulatory\", \"relationship\", \"reverse\", \"delay\", \"locate\", \"significant\", \"upgrade\", \"isp\", \"impact\", \"monitor\", \"parallel\", \"catch\", \"guess\", \"pattern\", \"excerpt\", \"possibility\", \"window\", \"lately\", \"normal\", \"initial\", \"traceroute\", \"tcp\", \"subscribe\", \"maximum\", \"cordially\", \"performance\", \"far\", \"post\", \"net\", \"result\", \"collect\", \"find\", \"data\", \"time\", \"interested\", \"report\", \"same\", \"try\", \"other\", \"longitude\", \"maybe\", \"latitude\", \"m_lab\", \"plx\", \"accurate\", \"actually\", \"hop\", \"perform\", \"center\", \"thousand\", \"dense\", \"familiar\", \"whenever\", \"crappy\", \"crontab\", \"live\", \"ray\", \"surprising\", \"thanx\", \"incredibly\", \"definitive\", \"force\", \"native\", \"nowhere\", \"resort\", \"screenshot\", \"really\", \"all\", \"connect\", \"close\", \"seem\", \"city\", \"speed\", \"online\", \"local\", \"test\", \"see\", \"possible\", \"think\", \"appreciate\", \"build\", \"previous\", \"just\", \"copy\", \"way\", \"look\", \"regard\", \"able\", \"far\", \"run\", \"only\", \"download\", \"packet\", \"colleague\", \"remediation\", \"specify\", \"historical\", \"hear\", \"reflect\", \"operator\", \"fully\", \"notify\", \"international\", \"intervention\", \"backend\", \"occur\", \"greeting\", \"experiment\", \"capture\", \"script\", \"collision\", \"wrapper\", \"term\", \"exact\", \"archive\", \"transparency\", \"improvement\", \"console\", \"eliminate\", \"flaw\", \"hash\", \"middle\", \"month\", \"change\", \"first\", \"long\", \"people\", \"specific\", \"recent\", \"last\", \"traceroute\", \"release\", \"review\", \"spend\", \"hand\", \"round\", \"bandwidth\", \"fellowship\", \"one\", \"tcp_info\", \"seek\", \"concept\", \"json\", \"proof\", \"cross\", \"reason\", \"fellow\", \"funding\", \"unit\", \"pc\", \"strange\", \"master\", \"blob\", \"deduce\", \"milli\", \"inconsistency\", \"pt\", \"stability\", \"locally\", \"entry\", \"affordable\", \"penetration\", \"transformative\", \"ensure\", \"store\", \"related\", \"multiple\", \"second\", \"com\", \"deployment\", \"interval\", \"browser\", \"platform\", \"file\", \"record\", \"tcp\", \"track\", \"sender\", \"domination\", \"finally\", \"presently\", \"intended\", \"confidential\", \"solely\", \"transmit\", \"recipient\", \"maxrtt\", \"pende\", \"responsiveness\", \"minrtt\", \"speedtest\", \"intend\", \"reflect\", \"internship\", \"fyi\", \"aria\", \"blockquote\", \"charset\", \"decoration\", \"despair\", \"dhrdashngisdlj\", \"doctype\", \"dpi\", \"et\", \"fff\", \"font\", \"app\", \"just\", \"latency\", \"advancement\", \"algorithmic\", \"applied\", \"audiovisual\", \"autonomous\", \"bitrate\", \"centric\", \"charter\", \"chunked\", \"cinematic\", \"aide\", \"checklist\", \"container\", \"installation\", \"vm\", \"personal\", \"explanation\", \"turn\", \"isocode\", \"subdivsion\", \"depth\", \"weekend\", \"replace\", \"astonish\", \"knowledgeable\", \"poorly\", \"shortcoming\", \"wire\", \"internship\", \"fyi\", \"combination\", \"equipment\", \"credit\", \"reporter\", \"approval\", \"carefully\", \"hypocritical\", \"incorporate\", \"intolerance\", \"mistake\", \"spiral\", \"strong\", \"tacit\", \"tolerate\", \"weak\", \"coder\", \"slight\", \"region\", \"apple\", \"client_geolocation\", \"country_code\", \"connection_spec\", \"convening\", \"drop\", \"reception\", \"geo\", \"apologize\", \"date\", \"address\", \"client\", \"web\", \"snap\", \"already\", \"use\"], \"Freq\": [264.0, 245.0, 206.0, 118.0, 199.0, 88.0, 88.0, 87.0, 82.0, 101.0, 74.0, 96.0, 89.0, 47.0, 81.0, 107.0, 87.0, 63.0, 101.0, 226.0, 36.0, 86.0, 65.0, 46.0, 87.0, 83.0, 69.0, 90.0, 53.0, 30.0, 48.4037069180058, 38.19911064638033, 86.26772372356398, 31.740034073799443, 18.870647970874153, 19.280595436947323, 17.916552919846033, 15.673469791522306, 14.6563740012413, 14.473789160140573, 14.344516721484787, 21.534144093023734, 15.603945475606606, 13.996484823705647, 12.898191406064502, 12.151449933636657, 13.278566032599628, 11.101621370945415, 11.299543423658607, 10.958250398915787, 10.58419756903422, 10.576753914147396, 10.377354715911915, 10.376801510432, 10.071558560069732, 100.32183073900312, 9.137506346324429, 9.163245365686654, 8.702735111840095, 8.627750184764878, 80.90031368832032, 89.28150994177808, 54.93675275943351, 16.432183866317406, 42.25179937769369, 53.94795733954129, 42.44521082656366, 33.13269845766789, 76.72362583132028, 39.90555549554804, 174.38460965556803, 69.85655587275583, 25.258636191103975, 49.16743942575832, 102.04675052719992, 32.16363692958977, 32.48961687908486, 54.20805852965151, 32.80187192613235, 31.28444956926969, 38.84537050147276, 76.40750510409552, 34.337551029286814, 45.36279142582026, 32.56448595160931, 29.404634177605647, 30.346251693516084, 80.74456146284959, 65.18604221508892, 48.56932269826563, 33.57488110260892, 24.116399539942165, 22.09064718985149, 22.008718990808795, 49.218100644678216, 18.95358741551864, 18.885470912002976, 18.208410192652682, 17.960496061175892, 17.12053773882612, 17.02506361552582, 16.940526484591462, 29.15523609556423, 14.379547803999511, 13.828229695973041, 13.266832464868022, 13.029401159663848, 12.882068837940627, 11.696523760502737, 11.66671953115239, 11.284832289482726, 11.27021318756756, 35.154696176146174, 10.954434026023074, 10.949353253116072, 10.89999801449637, 10.665527199382023, 49.05885319139176, 20.259427634305407, 64.94785733058914, 31.129247152948597, 50.911531253799176, 18.15096995652346, 22.731438541408114, 22.451002753455906, 26.76300871428574, 40.72068668048481, 20.442937649555315, 24.566111441360114, 32.333100170237444, 23.026690236582592, 21.863678525760232, 24.187663246274912, 22.59534010210814, 19.825919369839337, 23.793405024852046, 20.81368352411704, 19.18120032262377, 19.13153135048116, 17.631246486343247, 16.600960015363622, 13.602339288687517, 13.515569120369724, 13.743402779141338, 13.465584171690814, 26.984261409651232, 18.41133463375655, 12.50190315907428, 10.546956847348032, 10.546670925213613, 10.157359141290078, 15.116284648470561, 9.495551221303124, 8.309836243857369, 12.102073965990444, 7.472492189026773, 7.360317119118079, 7.054628303039962, 7.0540158331441125, 7.054119197081196, 7.014090612511056, 6.994542486439746, 48.572213583728235, 6.002217321288602, 5.756378796023716, 5.533566773299936, 5.571680810916047, 5.338407432112277, 13.495944371280377, 23.416232923262104, 15.915066755291019, 14.34500351989548, 30.56110205736301, 41.98715530489338, 22.74925269243346, 25.790359596989752, 14.79957137426715, 13.371328603033822, 18.122701381545557, 10.718862902431134, 82.03278823942176, 42.022095401118065, 23.623080103066783, 40.63863955529979, 21.213388007007516, 14.127131881965509, 23.746769195618693, 15.629506651776582, 31.174402978696808, 17.163270118063615, 18.570257972642658, 15.445552784166223, 25.499196074442555, 16.136438671708255, 15.956188907309482, 15.839142659548914, 15.703172353331167, 15.518113039475502, 14.682709532680459, 12.195761811398894, 11.256940217541219, 10.793585592420142, 9.10971340887122, 8.929356723542163, 7.887529113994764, 7.887529113994764, 7.271329599729673, 17.300883298724557, 12.117914858326523, 6.548539853103066, 6.432279899971394, 6.369538603461004, 6.11563498424251, 6.115581523777368, 6.116976699987124, 9.966262658586313, 5.580439429101908, 5.5067231248892785, 5.505598089614, 8.90621733106365, 5.326144554974811, 5.317474024491194, 75.778386951286, 11.171113935220381, 8.318736021710249, 9.772296736617777, 17.158763619711152, 29.969056789622133, 8.795882500634919, 36.83042268345743, 39.152851263932746, 31.598310355651947, 13.80687950600627, 21.792402598808376, 31.722138039760647, 21.880456242809625, 11.359920212650568, 22.188140616859037, 19.14434963686624, 19.127815686992204, 16.28052077558367, 18.405787160617038, 13.905752034227488, 11.975240704400322, 11.448624844262744, 11.325549391477718, 263.6717251485904, 244.6082016135614, 206.1337879857907, 87.22188904800193, 13.4141082945767, 112.6067346083082, 12.600546799486532, 10.17167658355852, 9.925690006203531, 9.33212623549354, 8.492506422482688, 8.48966657598587, 7.651869284135521, 6.8136051579715184, 6.717641202587108, 6.567203284811103, 5.725507739708021, 5.134403252162356, 4.294937307741283, 4.294886516167958, 10.830130323866344, 7.788998315830443, 3.455321602872391, 3.455245415512403, 3.455124412058304, 3.451303093100462, 10.195540406737585, 2.6157486600266293, 2.6157486600266293, 2.6157139275536934, 9.71367477511938, 11.654694170060697, 12.9309101310936, 13.251990555740534, 16.9254477742828, 6.330597462888392, 8.671588546809568, 8.736728739599517, 8.064246067965232, 5.761874132741626, 87.72913411909308, 87.72823847109392, 73.78671757297036, 47.3381113964032, 30.254121437964457, 15.089583133534452, 11.519230820948925, 8.925834237958245, 76.26127726483723, 7.481123824939672, 6.947012568792055, 6.8650293285548205, 6.7162328860660345, 6.103719723745218, 5.880553049012012, 5.8742187294899, 5.342416408598532, 5.3407087651169975, 4.658668725479775, 3.8931324671910157, 3.893067369179841, 6.585178953695335, 3.6623581306784727, 7.013425748482187, 3.136515579882603, 3.136515579882603, 3.1322782339764896, 3.1300847140347394, 2.9125513758917223, 2.9115013166679944, 74.76950507802037, 4.18280477965921, 13.964814035764496, 4.18280477965921, 3.9844234650936237, 13.58868338789475, 14.096851671415164, 7.77112005504801, 7.143113566067659, 17.96355403158618, 9.14664166013188, 8.660962695331815, 7.803680382028517, 8.177279440574809, 7.069164741238572, 8.237606113461695, 5.969692667714403, 12.425933316915849, 9.69087498294932, 8.31261375591962, 7.2120392723192595, 13.796203911904543, 6.895392389579835, 6.147153800375049, 5.705558868717964, 5.575048309706963, 5.2443706922303095, 5.2443706922303095, 5.2443706922303095, 5.2443706922303095, 4.974463165631388, 4.165526838007125, 3.508935912862284, 3.4115458532393923, 4.678043441462287, 8.041941882020879, 3.282553036391688, 3.28196392807333, 3.0995159202558424, 3.0993048369372644, 3.098319117666547, 2.9700501572933997, 2.9700255972846343, 2.9696970241943954, 2.969230384027854, 2.967078064340783, 4.866711437445604, 4.47772703159198, 16.075501499428547, 5.514729923855308, 8.458410597142976, 5.575901935957564, 6.811524606134328, 15.576598774345625, 6.3294083151505065, 11.085798516466253, 5.268065126632681, 10.427792071897303, 6.486861867561111, 7.8273378529973385, 7.219300405721533, 7.760636851894787, 6.038557407022942, 5.899791366146682, 5.752914548321673, 5.751812666847336, 5.552179622626324, 11.531912290317207, 10.608534620148232, 10.460518782920914, 6.33709242314821, 6.33709242314821, 5.584144782544296, 5.204928177992646, 4.1882778409995804, 4.549284762730801, 3.755768218383001, 3.7553914552394656, 3.599006782759889, 3.598503360334312, 3.2200470329451707, 3.2200467114749114, 3.2200467114749114, 3.2200467114749114, 3.2200467114749114, 3.2200467114749114, 3.2200467114749114, 3.219720740632297, 3.218814837442466, 3.218814837442466, 3.218814837442466, 3.218814837442466, 3.218814837442466, 3.1830396982006217, 2.959233711243811, 7.121653449021097, 10.071280021575024, 12.10036300576322, 14.739146483149856, 15.414325324580199, 31.745779580435148, 5.354872193833379, 6.8224347184188465, 34.045881281166565, 17.006323199955627, 7.55166621213611, 7.045699027989261, 5.028423967883987, 5.126718321623743, 4.447633938016942, 7.044119323136589, 4.022714549685351, 6.232728389448484, 7.239127682822911, 5.433310294086164, 5.2313922526531345, 4.672604933192329, 6.000985623267495, 4.939358382339286, 5.121589585111833, 7.47983042474721, 6.909749357625607, 6.666836744526634, 6.385429271881966, 5.6164368207549495, 4.856414578868462, 5.0842238266736945, 4.236036214062583, 4.179012372745434, 4.037408720925487, 3.358597080138571, 3.2204947490278912, 3.220381563779738, 4.354620213003196, 4.657293894928757, 1.8892820390383114, 1.8261495342134528, 3.5889142161635417, 1.4824930511030772, 1.4824930511030772, 1.352040280046482, 1.2117594112332324, 4.267745896305869, 4.081009162910831, 9.130141851665263, 7.51585673258564, 0.9213846053666362, 0.9213846053666362, 0.9213846053666362, 0.9213846053666362, 9.842938754832108, 13.130553098213248, 5.970814637334455, 4.825616687296364, 3.8790736917342654, 4.285225038513305, 4.485822697166617, 4.293394415735753, 3.8550869544067767, 3.1680714241742054, 3.288889440143942, 5.470635230129468, 3.34616095129041, 3.2200923957012733, 2.5770207183512097, 2.3235652208672435, 5.807205035072681, 1.889900081595108, 1.6558074955808244, 1.6542892010035564, 1.4028160157524439, 1.2230668934823237, 1.218115588458508, 3.199274567675573, 1.7028266824146023, 1.0967674608157736, 0.7903848337443612, 0.7903704810918215, 0.7901160944724344, 0.7900563689183174, 0.7900562660319193, 0.7891906827644153, 0.6634791944200039, 0.6634438014990457, 0.6634335128592322, 0.6634332042000378, 0.9431103291125144, 2.259117181075912, 0.46620440309168515, 0.46620440309168515, 0.46620440309168515, 1.5031322087749608, 1.39471299169458, 0.6634756448392682, 1.5324046236809497, 3.0313001763535357, 1.0188621888076683, 1.096609838853832, 1.0887847109573288, 0.9630051632605514, 0.9816166953646593, 0.932360346689849, 0.9046538627634645, 0.8563439660650917, 3.2754817333989212, 0.7952001634793752, 0.09762328186343604, 0.09762328186343604, 0.09762328186343604, 0.09754446022549164, 0.09754442168661476, 0.09754438314773788, 0.09754426753110723, 0.09754418081863424, 0.09754169506107531, 0.09515252556232683, 0.0976189751439444, 0.11053420064263722, 0.09762328186343604, 0.05175387703525089, 0.14486691559822465, 0.01377988735345337, 0.013779900601192299, 0.013822270483305149, 0.013822270483305149, 0.013822270483305149, 0.013822270483305149, 0.013822270483305149, 0.013822270483305149, 0.013822270483305149, 0.013822270483305149, 0.013822270483305149, 0.013822270483305149, 0.013822270483305149, 0.0946015834131306, 0.137872244330079, 0.03889667422438481, 0.01392135995747015, 0.01392135995747015, 0.01392135995747015, 0.01392135995747015, 0.01392135995747015, 0.01392135995747015, 0.01392135995747015, 0.01392135995747015, 0.01392135995747015, 0.01392135995747015, 0.013958286223223313, 0.013958286223223313, 0.013958286223223313, 0.013958286223223313, 0.013958286223223313, 0.013943876296288881, 0.16124629822005682, 0.10409329936976758, 0.08742515522467723, 0.08742515522467723, 0.047012381862783205, 0.04701424804642864, 0.06144029334359718, 0.006847558386929352, 0.006847558386929352, 0.006847558386929352, 0.006847558386929352, 0.006847558386929352, 0.006638328687340555, 0.006638328687340555, 0.006638328687340555, 0.006638328687340555, 0.006638328687340555, 0.006638328687340555, 0.006638328687340555, 0.006638328687340555, 0.006638328687340555, 0.006638328687340555, 0.006638328687340555, 0.006638328687340555, 0.006638328687340555, 0.006638328687340555, 0.006638328687340555, 0.006638328687340555, 0.006638328687340555, 0.006638328687340555, 0.00683377445460181, 0.08741227522505295, 0.00671548684162281, 0.006651693457325861, 0.006649980879756154, 0.0066486234186055836, 0.006647697616562732, 0.006647697616562732, 0.006647697616562732, 0.006646711934185275, 0.006641296669142723, 0.006640811898781702, 0.006640739000983053, 0.006640363056621444, 0.006640271934373132, 0.006640134990651383, 0.006640089689876508, 0.00664006105145561], \"Total\": [264.0, 245.0, 206.0, 118.0, 199.0, 88.0, 88.0, 87.0, 82.0, 101.0, 74.0, 96.0, 89.0, 47.0, 81.0, 107.0, 87.0, 63.0, 101.0, 226.0, 36.0, 86.0, 65.0, 46.0, 87.0, 83.0, 69.0, 90.0, 53.0, 30.0, 49.06410553600719, 38.85813833335373, 87.86729735278227, 32.399047143991716, 19.529467532327796, 19.956804793628613, 18.59091663023178, 16.33215872181471, 15.319909558764202, 15.132410104592038, 15.003201836993766, 22.541983282749577, 16.340304991312756, 14.657734903625597, 13.55694092234701, 12.81028084918114, 14.042763470255048, 11.760230740908131, 11.973241743533004, 11.621371568443903, 11.242963715032175, 11.235587095462773, 11.035961315007613, 11.035413931408044, 10.734714751398013, 107.49742922840855, 9.79615398551213, 9.832638031501965, 9.361354881527694, 9.286348323257096, 90.92129142520363, 101.55050473659726, 62.060659605970244, 18.0029939782335, 48.63278557492994, 63.18107115127214, 48.996930703758295, 37.77993562551629, 93.03780427685754, 46.229059483385484, 226.39488293615696, 87.34844407970522, 28.760025816607808, 66.86751545508355, 164.28473784354813, 40.814129099433195, 43.64236986504806, 86.4833992089053, 46.971300487950444, 44.89462755124525, 63.044359659320776, 199.19185903314997, 60.05012440491506, 101.54677367219072, 56.12853737208802, 49.03998245986528, 54.01512713644721, 81.39463024626663, 65.83618318054565, 49.219333400215305, 34.224951389721625, 24.76667748042622, 22.741609059963846, 22.65897612746566, 50.818399730055354, 19.603603259952127, 19.535483708739378, 18.85845187271755, 18.610685026516364, 17.770579578715182, 17.675096430952202, 17.590758747862125, 30.300104086387694, 15.029612799086971, 14.478274249520048, 13.916850034924947, 13.679469672973873, 13.532082867848285, 12.346558278485338, 12.316785667352988, 11.93484673598244, 11.92024007081797, 37.230688636716515, 11.604446620017132, 11.59942568654305, 11.550009098396329, 11.315544721173298, 54.608700115269414, 22.756832950959573, 83.93275380638296, 40.21024427965239, 77.30632348214078, 21.920247784831886, 30.103758106584532, 30.721400230765774, 42.355369643166945, 83.0013144402185, 29.55612685802282, 41.73951696544496, 69.74319095007785, 45.920914204448955, 40.32453343291052, 60.05012440491506, 54.01512713644721, 38.123577646383495, 226.39488293615696, 67.33941706677861, 43.101880921075804, 19.80558035875984, 18.33280045429554, 17.27790130149551, 14.276326790917485, 14.1896111297989, 14.43117601880899, 14.14263711351818, 28.359152757236412, 19.521037325149607, 13.263405113911883, 11.221148440789158, 11.221642829553142, 10.835011126972724, 16.145984194051305, 10.169816126280745, 8.983825112109663, 13.154264940962499, 8.14647075969725, 8.034705394340852, 7.728650226710828, 7.728259036109122, 7.7284000051184245, 7.688045016550705, 7.711853094568549, 53.69152658959357, 6.676184560255103, 6.430347436909099, 6.217384853888467, 6.2613166620726, 6.012362972647472, 16.131532332129233, 29.75048440108324, 19.62353283702935, 17.67597219391544, 42.042068793445154, 62.251336349317604, 30.55278445993933, 35.81459436617092, 18.681120060187126, 16.748246428908743, 25.306682990978178, 12.964872059686517, 199.19185903314997, 86.88873700470069, 41.10222193498901, 101.80804680618397, 36.402672263608494, 19.405482663324133, 55.86027403976653, 24.09221905785634, 164.28473784354813, 33.75282879967554, 45.275036874117546, 78.75242543488737, 26.173327512647973, 16.808227720615328, 16.629540013837804, 16.513901010096195, 16.37625340993908, 16.19005859626957, 15.354738466386506, 12.867947886400453, 11.929266706980382, 11.466216287950843, 9.781534803726062, 9.601314304503356, 8.559313900549455, 8.559313900549455, 7.946048894739866, 18.967604018057454, 13.360086509826331, 7.220343598834357, 7.104094302176034, 7.04160269957504, 6.787535115355696, 6.787537116731611, 6.789341285565007, 11.156802873558886, 6.252238886897652, 6.178506935665082, 6.177663514979742, 10.019833622738748, 5.997946427200048, 5.989422849242085, 89.76464398067698, 13.2331435995498, 9.72971147412683, 11.697993067203539, 22.18095646435211, 46.21628677319544, 10.72436351334714, 69.74319095007785, 78.75242543488737, 67.33941706677861, 21.08003902209697, 43.101880921075804, 101.54677367219072, 56.12853737208802, 17.12376587077148, 64.50850506434809, 49.32357396358345, 55.844936531883185, 41.93307979961777, 83.93275380638296, 45.65961773560717, 45.920914204448955, 40.32453343291052, 24.086041771441096, 264.3169793804648, 245.25345795227926, 206.77904172922896, 87.86713557419723, 14.05995636386304, 118.16026063946907, 13.245814550157425, 10.816919484281511, 10.570932466399391, 9.977369139431731, 9.13775029459145, 9.134937992793443, 8.29713078101496, 7.458846666265088, 7.3629870831743816, 7.212449106984403, 6.370779236332045, 5.779645857777628, 4.9401788108278675, 4.94012880923498, 12.49161402297563, 9.196863216612854, 4.100563931390704, 4.100488673235273, 4.1003690873825285, 4.096611804300124, 12.525579784118333, 3.2609910383542857, 3.2609910383542857, 3.2609562267337724, 12.386914299189334, 19.760414043203124, 28.92831933584716, 31.165856115611547, 87.34844407970522, 16.397949461937092, 63.18107115127214, 96.67913680580803, 78.75242543488737, 46.229059483385484, 88.38337564568506, 88.3825092902029, 74.44222818439493, 47.99235067655985, 30.908391891299924, 15.743861401223121, 12.173474129463253, 9.580123731115044, 82.63890881958041, 8.135481816158782, 7.601250619605959, 7.519310623075146, 7.370565820015827, 6.75798326720244, 6.5348133056925795, 6.528523833724429, 5.9966676505017515, 5.994981582152637, 5.313080030764629, 4.54746104507243, 4.547393225304824, 7.700829643387396, 4.316745385459743, 8.411996155849032, 3.7907534131452607, 3.7907534131452607, 3.7865710448260486, 3.7844885130956727, 3.5668081182295928, 3.5657536113650723, 96.67913680580803, 5.213348217974655, 19.088861470457882, 5.213348217974655, 4.954305532631, 24.03022514957869, 36.402672263608494, 15.321592627392342, 14.1432750166947, 86.4833992089053, 28.809466709855222, 42.042068793445154, 31.165856115611547, 45.920914204448955, 27.552487270773227, 90.92129142520363, 107.49742922840855, 13.117385544287265, 10.382337942451587, 9.004029848133358, 7.9064857833326645, 15.12605262355339, 7.586953124476209, 6.838615895923202, 6.397005683145327, 6.26669247874953, 5.956912012729391, 5.956912012729391, 5.956912012729391, 5.956912012729391, 5.665882031301435, 4.856961519500973, 4.200412795895567, 4.102968969076424, 5.6273859113494025, 9.677251709047592, 3.9739695776339694, 3.9733923571685956, 3.7909346715938996, 3.7907234515721546, 3.7897723112149744, 3.661464365342452, 3.6614448737839913, 3.661115779333074, 3.6606605597416606, 3.6605387294660177, 6.088791253883426, 5.930565941254128, 27.552487270773227, 7.81390550805436, 14.045267486112373, 8.538486958838629, 12.414243527683961, 46.21628677319544, 12.291005831634397, 52.70041841895272, 10.833210262315033, 86.88873700470069, 23.404166069243605, 44.89462755124525, 40.727549212013685, 55.86027403976653, 30.103758106584532, 28.3214680520957, 23.02312043654513, 48.63278557492994, 45.275036874117546, 12.212481295100565, 11.28908082998119, 11.141091638605586, 7.07331573288168, 7.07331573288168, 6.264692849552706, 5.885489677038684, 4.868857527443385, 5.360785862096699, 4.4363593091412525, 4.435942279509913, 4.279549656070739, 4.279083485426376, 3.9005925876503125, 3.900592266180053, 3.900592266180053, 3.900592266180053, 3.900592266180053, 3.900592266180053, 3.900592266180053, 3.900353087444619, 3.900218993342088, 3.900218993342088, 3.900218993342088, 3.900218993342088, 3.900218993342088, 3.8636009857700864, 3.639815503303573, 9.001500884515558, 13.296612143950552, 19.97305220263005, 26.85819615796091, 28.92831933584716, 101.80804680618397, 8.090905787399809, 13.013185122270361, 199.19185903314997, 63.044359659320776, 16.32742181442619, 17.472858395056946, 11.038071639403533, 11.744924243714072, 9.060264111486436, 30.55278445993933, 7.031050628454682, 35.296993987840516, 66.86751545508355, 22.89710734394047, 19.74424164502563, 12.291005831634397, 101.55050473659726, 22.52438097797755, 38.27268036048826, 8.167269810805342, 7.5970563265455135, 7.354008643988099, 7.07304008052494, 6.304119249552232, 5.5435807984371985, 5.902455606979662, 4.9242848613706975, 4.866103940685507, 4.724512998272398, 4.047109898773504, 3.9075817862490028, 3.9074702522367435, 5.43732344770711, 6.084099387715666, 2.576394946187889, 2.513339022936633, 5.149786180312818, 2.170050531931026, 2.170050531931026, 2.039139007131971, 1.898867051862748, 6.961615230949296, 6.777598007166617, 15.609740501902316, 12.938511452360158, 1.6106684884839768, 1.6106684884839768, 1.6106684884839768, 1.6106684884839768, 24.03022514957869, 36.601155693201015, 15.37078464173776, 13.626450802031618, 10.903699422160058, 13.201598276078377, 16.588101516556303, 17.997088352593526, 27.552487270773227, 17.950913318594136, 26.756492053849563, 6.163036719646004, 4.038597037783921, 3.912486645346476, 3.2694288866393593, 3.015952523490916, 7.921534395982901, 2.5822893528495574, 2.3483066644562416, 2.3467411720580853, 2.0952113318224446, 1.9154691415892444, 1.910633436770488, 5.142387476680558, 2.742192508649595, 1.7891559533393753, 1.4827665049908696, 1.4827513540981705, 1.4825012117985494, 1.4824445776420907, 1.4824445342613064, 1.4825293127493455, 1.3558572039269952, 1.3558214361905114, 1.355811311681487, 1.3558112119851082, 1.9747609071168357, 5.274413958870538, 1.1590394181425074, 1.1590394181425074, 1.1590394181425074, 4.058567856993781, 4.784970286463948, 1.9183181886813552, 6.5467653335880875, 18.681120060187126, 3.732855063365716, 8.146140125565099, 8.604204479989018, 10.982550054255979, 14.067144178716681, 18.0029939782335, 12.025398320508495, 7.81390550805436, 4.004519609159033, 1.5243327057107874, 0.8265961907307042, 0.8265961907307042, 0.8265961907307042, 0.8265308165791592, 0.8265309314686193, 0.8265311611381169, 0.826531803634728, 0.8265323425195412, 0.826546145807077, 1.3497531019939462, 1.6898784084348721, 1.9963651106868634, 2.5623994987355303, 1.5705673595839857, 5.902455606979662, 0.7477908028126388, 0.7479855448298532, 0.7531045727597739, 0.7531045727597739, 0.7531045727597739, 0.7531045727597739, 0.7531045727597739, 0.7531045727597739, 0.7531045727597739, 0.7531045727597739, 0.7531045727597739, 0.7531045727597739, 0.7531045727597739, 6.502642027757861, 30.55278445993933, 13.758848560549161, 0.7762965648490822, 0.7762965648490822, 0.7762965648490822, 0.7762965648490822, 0.7762965648490822, 0.7762965648490822, 0.7762965648490822, 0.7762965648490822, 0.7762965648490822, 0.7762965648490822, 1.2891471175527545, 1.2891471175527545, 1.2891471175527545, 1.2891471175527545, 1.2891471175527545, 0.9471438547493289, 0.8973823470456483, 0.8402214071717422, 0.823541248182124, 0.823541329878129, 1.8240783455150718, 1.8591760019285781, 2.500222037594376, 0.7548744499374053, 0.7548744499374053, 0.7548744499374053, 0.7548744499374053, 0.7548744499374053, 0.7477908028126388, 0.7479855448298532, 0.751178380244454, 0.751178380244454, 0.7515479085644544, 0.7520080554925082, 0.7521430372859915, 0.7521430372859915, 0.7521430372859915, 0.7521430372859915, 0.7521430372859915, 0.7521430372859915, 0.7521430372859915, 0.7521430372859915, 0.7521430372859915, 0.7521430372859915, 0.7521430372859915, 0.7522559672458125, 0.7790096712430915, 19.760414043203124, 1.792677692467879, 245.25345795227926, 206.77904172922896, 264.3169793804648, 1.3158946587490097, 1.3158946587490097, 1.3158946587490097, 9.832638031501965, 3.4407380616328953, 45.920914204448955, 10.014071349375577, 87.86729735278227, 118.16026063946907, 87.86713557419723, 7.9907086760601755, 164.28473784354813], \"Category\": [\"Default\", \"Default\", \"Default\", \"Default\", \"Default\", \"Default\", \"Default\", \"Default\", \"Default\", \"Default\", \"Default\", \"Default\", \"Default\", \"Default\", \"Default\", \"Default\", \"Default\", \"Default\", \"Default\", \"Default\", \"Default\", \"Default\", \"Default\", \"Default\", \"Default\", \"Default\", \"Default\", \"Default\", \"Default\", \"Default\", \"Topic1\", \"Topic1\", \"Topic1\", \"Topic1\", \"Topic1\", \"Topic1\", \"Topic1\", \"Topic1\", \"Topic1\", \"Topic1\", \"Topic1\", \"Topic1\", \"Topic1\", \"Topic1\", \"Topic1\", \"Topic1\", \"Topic1\", \"Topic1\", \"Topic1\", \"Topic1\", \"Topic1\", \"Topic1\", \"Topic1\", \"Topic1\", \"Topic1\", \"Topic1\", \"Topic1\", \"Topic1\", \"Topic1\", \"Topic1\", \"Topic1\", \"Topic1\", \"Topic1\", \"Topic1\", \"Topic1\", \"Topic1\", \"Topic1\", \"Topic1\", \"Topic1\", \"Topic1\", \"Topic1\", \"Topic1\", \"Topic1\", \"Topic1\", \"Topic1\", \"Topic1\", \"Topic1\", \"Topic1\", \"Topic1\", \"Topic1\", \"Topic1\", \"Topic1\", \"Topic1\", \"Topic1\", \"Topic1\", \"Topic1\", \"Topic1\", \"Topic2\", \"Topic2\", \"Topic2\", \"Topic2\", \"Topic2\", \"Topic2\", \"Topic2\", \"Topic2\", \"Topic2\", \"Topic2\", \"Topic2\", \"Topic2\", \"Topic2\", \"Topic2\", \"Topic2\", \"Topic2\", \"Topic2\", \"Topic2\", \"Topic2\", \"Topic2\", \"Topic2\", \"Topic2\", \"Topic2\", \"Topic2\", \"Topic2\", \"Topic2\", \"Topic2\", \"Topic2\", \"Topic2\", \"Topic2\", \"Topic2\", \"Topic2\", \"Topic2\", \"Topic2\", \"Topic2\", \"Topic2\", \"Topic2\", \"Topic2\", \"Topic2\", \"Topic2\", \"Topic2\", \"Topic2\", \"Topic2\", \"Topic2\", \"Topic2\", \"Topic2\", \"Topic2\", \"Topic2\", \"Topic2\", \"Topic2\", \"Topic2\", \"Topic3\", \"Topic3\", \"Topic3\", \"Topic3\", \"Topic3\", \"Topic3\", \"Topic3\", \"Topic3\", \"Topic3\", \"Topic3\", \"Topic3\", \"Topic3\", \"Topic3\", \"Topic3\", \"Topic3\", \"Topic3\", \"Topic3\", \"Topic3\", \"Topic3\", \"Topic3\", \"Topic3\", \"Topic3\", \"Topic3\", \"Topic3\", \"Topic3\", \"Topic3\", \"Topic3\", \"Topic3\", \"Topic3\", \"Topic3\", \"Topic3\", \"Topic3\", \"Topic3\", \"Topic3\", \"Topic3\", \"Topic3\", \"Topic3\", \"Topic3\", \"Topic3\", \"Topic3\", \"Topic3\", \"Topic3\", \"Topic3\", \"Topic3\", \"Topic3\", \"Topic3\", \"Topic3\", \"Topic3\", \"Topic3\", \"Topic3\", \"Topic3\", \"Topic3\", \"Topic3\", \"Topic3\", \"Topic4\", \"Topic4\", \"Topic4\", \"Topic4\", \"Topic4\", \"Topic4\", \"Topic4\", \"Topic4\", \"Topic4\", \"Topic4\", \"Topic4\", \"Topic4\", \"Topic4\", \"Topic4\", \"Topic4\", \"Topic4\", \"Topic4\", \"Topic4\", \"Topic4\", \"Topic4\", \"Topic4\", \"Topic4\", \"Topic4\", \"Topic4\", \"Topic4\", \"Topic4\", \"Topic4\", \"Topic4\", \"Topic4\", \"Topic4\", \"Topic4\", \"Topic4\", \"Topic4\", \"Topic4\", \"Topic4\", \"Topic4\", \"Topic4\", \"Topic4\", \"Topic4\", \"Topic4\", \"Topic4\", \"Topic4\", \"Topic4\", \"Topic4\", \"Topic4\", \"Topic4\", \"Topic4\", \"Topic4\", \"Topic4\", \"Topic4\", \"Topic4\", \"Topic4\", \"Topic4\", \"Topic4\", \"Topic5\", \"Topic5\", \"Topic5\", \"Topic5\", \"Topic5\", \"Topic5\", \"Topic5\", \"Topic5\", \"Topic5\", \"Topic5\", \"Topic5\", \"Topic5\", \"Topic5\", \"Topic5\", \"Topic5\", \"Topic5\", \"Topic5\", \"Topic5\", \"Topic5\", \"Topic5\", \"Topic5\", \"Topic5\", \"Topic5\", \"Topic5\", \"Topic5\", \"Topic5\", \"Topic5\", \"Topic5\", \"Topic5\", \"Topic5\", \"Topic5\", \"Topic5\", \"Topic5\", \"Topic5\", \"Topic5\", \"Topic5\", \"Topic5\", \"Topic5\", \"Topic5\", \"Topic5\", \"Topic6\", \"Topic6\", \"Topic6\", \"Topic6\", \"Topic6\", \"Topic6\", \"Topic6\", \"Topic6\", \"Topic6\", \"Topic6\", \"Topic6\", \"Topic6\", \"Topic6\", \"Topic6\", \"Topic6\", \"Topic6\", \"Topic6\", \"Topic6\", \"Topic6\", \"Topic6\", \"Topic6\", \"Topic6\", \"Topic6\", \"Topic6\", \"Topic6\", \"Topic6\", \"Topic6\", \"Topic6\", \"Topic6\", \"Topic6\", \"Topic6\", \"Topic6\", \"Topic6\", \"Topic6\", \"Topic6\", \"Topic6\", \"Topic6\", \"Topic6\", \"Topic6\", \"Topic6\", \"Topic6\", \"Topic6\", \"Topic6\", \"Topic6\", \"Topic6\", \"Topic6\", \"Topic6\", \"Topic7\", \"Topic7\", \"Topic7\", \"Topic7\", \"Topic7\", \"Topic7\", \"Topic7\", \"Topic7\", \"Topic7\", \"Topic7\", \"Topic7\", \"Topic7\", \"Topic7\", \"Topic7\", \"Topic7\", \"Topic7\", \"Topic7\", \"Topic7\", \"Topic7\", \"Topic7\", \"Topic7\", \"Topic7\", \"Topic7\", \"Topic7\", \"Topic7\", \"Topic7\", \"Topic7\", \"Topic7\", \"Topic7\", \"Topic7\", \"Topic7\", \"Topic7\", \"Topic7\", \"Topic7\", \"Topic7\", \"Topic7\", \"Topic7\", \"Topic7\", \"Topic7\", \"Topic7\", \"Topic7\", \"Topic7\", \"Topic7\", \"Topic7\", \"Topic7\", \"Topic7\", \"Topic7\", \"Topic7\", \"Topic7\", \"Topic7\", \"Topic8\", \"Topic8\", \"Topic8\", \"Topic8\", \"Topic8\", \"Topic8\", \"Topic8\", \"Topic8\", \"Topic8\", \"Topic8\", \"Topic8\", \"Topic8\", \"Topic8\", \"Topic8\", \"Topic8\", \"Topic8\", \"Topic8\", \"Topic8\", \"Topic8\", \"Topic8\", \"Topic8\", \"Topic8\", \"Topic8\", \"Topic8\", \"Topic8\", \"Topic8\", \"Topic8\", \"Topic8\", \"Topic8\", \"Topic8\", \"Topic8\", \"Topic8\", \"Topic8\", \"Topic8\", \"Topic8\", \"Topic8\", \"Topic8\", \"Topic8\", \"Topic8\", \"Topic8\", \"Topic8\", \"Topic8\", \"Topic8\", \"Topic8\", \"Topic8\", \"Topic8\", \"Topic8\", \"Topic8\", \"Topic8\", \"Topic8\", \"Topic8\", \"Topic8\", \"Topic8\", \"Topic9\", \"Topic9\", \"Topic9\", \"Topic9\", \"Topic9\", \"Topic9\", \"Topic9\", \"Topic9\", \"Topic9\", \"Topic9\", \"Topic9\", \"Topic9\", \"Topic9\", \"Topic9\", \"Topic9\", \"Topic9\", \"Topic9\", \"Topic9\", \"Topic9\", \"Topic9\", \"Topic9\", \"Topic9\", \"Topic9\", \"Topic9\", \"Topic9\", \"Topic9\", \"Topic9\", \"Topic9\", \"Topic9\", \"Topic9\", \"Topic9\", \"Topic9\", \"Topic9\", \"Topic9\", \"Topic9\", \"Topic9\", \"Topic9\", \"Topic9\", \"Topic9\", \"Topic9\", \"Topic9\", \"Topic10\", \"Topic10\", \"Topic10\", \"Topic10\", \"Topic10\", \"Topic10\", \"Topic10\", \"Topic10\", \"Topic10\", \"Topic10\", \"Topic10\", \"Topic10\", \"Topic10\", \"Topic10\", \"Topic10\", \"Topic10\", \"Topic10\", \"Topic10\", \"Topic10\", \"Topic10\", \"Topic10\", \"Topic10\", \"Topic10\", \"Topic10\", \"Topic10\", \"Topic10\", \"Topic10\", \"Topic10\", \"Topic10\", \"Topic10\", \"Topic10\", \"Topic10\", \"Topic10\", \"Topic10\", \"Topic10\", \"Topic10\", \"Topic10\", \"Topic10\", \"Topic10\", \"Topic10\", \"Topic10\", \"Topic10\", \"Topic10\", \"Topic11\", \"Topic11\", \"Topic11\", \"Topic11\", \"Topic11\", \"Topic11\", \"Topic11\", \"Topic11\", \"Topic11\", \"Topic11\", \"Topic11\", \"Topic11\", \"Topic11\", \"Topic11\", \"Topic11\", \"Topic11\", \"Topic11\", \"Topic11\", \"Topic11\", \"Topic11\", \"Topic11\", \"Topic11\", \"Topic11\", \"Topic11\", \"Topic11\", \"Topic11\", \"Topic11\", \"Topic11\", \"Topic11\", \"Topic11\", \"Topic11\", \"Topic11\", \"Topic11\", \"Topic11\", \"Topic11\", \"Topic11\", \"Topic11\", \"Topic11\", \"Topic11\", \"Topic11\", \"Topic11\", \"Topic11\", \"Topic11\", \"Topic11\", \"Topic11\", \"Topic11\", \"Topic11\", \"Topic11\", \"Topic11\", \"Topic12\", \"Topic12\", \"Topic12\", \"Topic12\", \"Topic12\", \"Topic12\", \"Topic12\", \"Topic12\", \"Topic12\", \"Topic12\", \"Topic12\", \"Topic12\", \"Topic12\", \"Topic12\", \"Topic12\", \"Topic12\", \"Topic12\", \"Topic12\", \"Topic12\", \"Topic12\", \"Topic12\", \"Topic12\", \"Topic12\", \"Topic12\", \"Topic12\", \"Topic12\", \"Topic12\", \"Topic12\", \"Topic12\", \"Topic12\", \"Topic12\", \"Topic12\", \"Topic12\", \"Topic12\", \"Topic12\", \"Topic12\", \"Topic12\", \"Topic12\", \"Topic12\", \"Topic12\", \"Topic12\", \"Topic12\", \"Topic12\", \"Topic12\", \"Topic12\", \"Topic12\", \"Topic12\", \"Topic12\"], \"logprob\": [30.0, 29.0, 28.0, 27.0, 26.0, 25.0, 24.0, 23.0, 22.0, 21.0, 20.0, 19.0, 18.0, 17.0, 16.0, 15.0, 14.0, 13.0, 12.0, 11.0, 10.0, 9.0, 8.0, 7.0, 6.0, 5.0, 4.0, 3.0, 2.0, 1.0, -4.4505, -4.6872, -3.8726, -4.8725, -5.3924, -5.3709, -5.4443, -5.5781, -5.6452, -5.6577, -5.6667, -5.2604, -5.5825, -5.6912, -5.773, -5.8326, -5.7439, -5.923, -5.9053, -5.936, -5.9707, -5.9714, -5.9904, -5.9905, -6.0203, -3.7217, -6.1177, -6.1148, -6.1664, -6.1751, -3.9368, -3.8382, -4.3239, -5.5308, -4.5864, -4.342, -4.5818, -4.8295, -3.9898, -4.6435, -3.1688, -4.0836, -5.1009, -4.4348, -3.7046, -4.8592, -4.8491, -4.3372, -4.8396, -4.8869, -4.6705, -3.994, -4.7938, -4.5154, -4.8468, -4.9489, -4.9174, -3.8008, -4.0148, -4.3091, -4.6783, -5.0092, -5.0969, -5.1007, -4.2958, -5.2501, -5.2537, -5.2902, -5.3039, -5.3518, -5.3574, -5.3624, -4.8195, -5.5263, -5.5654, -5.6068, -5.6249, -5.6363, -5.7328, -5.7354, -5.7686, -5.7699, -4.6323, -5.7983, -5.7988, -5.8033, -5.8251, -4.2991, -5.1835, -4.0185, -4.7539, -4.262, -5.2934, -5.0683, -5.0808, -4.9051, -4.4854, -5.1745, -4.9907, -4.716, -5.0554, -5.1073, -5.0063, -5.0743, -5.2051, -5.0227, -5.1565, -5.2382, -4.7488, -4.8305, -4.8907, -5.0899, -5.0963, -5.0796, -5.1, -4.4049, -4.7872, -5.1743, -5.3443, -5.3443, -5.382, -4.9844, -5.4493, -5.5827, -5.2068, -5.6889, -5.704, -5.7465, -5.7466, -5.7465, -5.7522, -5.755, -3.8171, -5.908, -5.9498, -5.9893, -5.9825, -6.0252, -5.0978, -4.5467, -4.9329, -5.0367, -4.2804, -3.9628, -4.5756, -4.4501, -5.0056, -5.107, -4.803, -5.3281, -3.293, -3.962, -4.5379, -3.9954, -4.6455, -5.0521, -4.5327, -4.951, -4.2606, -4.8574, -4.7786, -4.9628, -4.3781, -4.8357, -4.8469, -4.8543, -4.8629, -4.8747, -4.9301, -5.1157, -5.1958, -5.2378, -5.4074, -5.4274, -5.5515, -5.5515, -5.6328, -4.766, -5.1221, -5.7375, -5.7554, -5.7652, -5.8059, -5.8059, -5.8057, -5.3175, -5.8975, -5.9108, -5.911, -5.43, -5.9441, -5.9458, -3.2889, -5.2034, -5.4982, -5.3372, -4.7742, -4.2166, -5.4425, -4.0104, -3.9493, -4.1637, -4.9916, -4.5352, -4.1597, -4.5312, -5.1867, -4.5172, -4.6647, -4.6656, -4.8268, -4.7041, -4.9845, -5.1339, -5.1789, -5.1897, -1.8056, -1.8806, -2.0517, -2.9118, -4.784, -2.6564, -4.8465, -5.0607, -5.0851, -5.1468, -5.2411, -5.2414, -5.3453, -5.4614, -5.4755, -5.4982, -5.6353, -5.7443, -5.9228, -5.9228, -4.9979, -5.3276, -6.1404, -6.1404, -6.1404, -6.1415, -5.0583, -6.4187, -6.4187, -6.4187, -5.1067, -4.9246, -4.8207, -4.7961, -4.5515, -5.5349, -5.2202, -5.2127, -5.2928, -5.629, -2.7341, -2.7341, -2.9072, -3.3511, -3.7987, -4.4944, -4.7644, -5.0194, -2.8742, -5.196, -5.2701, -5.2819, -5.3038, -5.3995, -5.4367, -5.4378, -5.5327, -5.533, -5.6696, -5.8492, -5.8492, -5.3236, -5.9103, -5.2605, -6.0653, -6.0653, -6.0666, -6.0673, -6.1393, -6.1397, -2.894, -5.7774, -4.5718, -5.7774, -5.826, -4.5991, -4.5624, -5.158, -5.2422, -4.32, -4.995, -5.0495, -5.1538, -5.107, -5.2526, -5.0997, -5.4217, -4.0493, -4.2979, -4.4513, -4.5934, -3.9447, -4.6383, -4.7531, -4.8277, -4.8508, -4.912, -4.912, -4.912, -4.912, -4.9648, -5.1423, -5.3138, -5.3419, -5.0262, -4.4844, -5.3805, -5.3807, -5.4379, -5.4379, -5.4382, -5.4805, -5.4805, -5.4806, -5.4808, -5.4815, -4.9867, -5.07, -3.7918, -4.8617, -4.4339, -4.8507, -4.6505, -3.8233, -4.7239, -4.1634, -4.9074, -4.2246, -4.6993, -4.5115, -4.5923, -4.52, -4.7709, -4.7942, -4.8194, -4.8196, -4.8549, -4.0921, -4.1755, -4.1896, -4.6908, -4.6908, -4.8173, -4.8876, -5.1049, -5.0222, -5.2139, -5.214, -5.2565, -5.2567, -5.3678, -5.3678, -5.3678, -5.3678, -5.3678, -5.3678, -5.3678, -5.3679, -5.3682, -5.3682, -5.3682, -5.3682, -5.3682, -5.3794, -5.4523, -4.5741, -4.2275, -4.044, -3.8467, -3.8019, -3.0794, -4.8592, -4.617, -3.0095, -3.7036, -4.5154, -4.5848, -4.9221, -4.9027, -5.0448, -4.585, -5.1452, -4.7074, -4.5577, -4.8447, -4.8825, -4.9955, -4.7453, -4.94, -4.9037, -3.9754, -4.0547, -4.0905, -4.1336, -4.2619, -4.4073, -4.3615, -4.544, -4.5575, -4.592, -4.7761, -4.8181, -4.8181, -4.5164, -4.4492, -5.3514, -5.3854, -4.7098, -5.5939, -5.5939, -5.686, -5.7955, -4.5365, -4.5813, -3.776, -3.9706, -6.0695, -6.0695, -6.0695, -6.0695, -3.7009, -3.4127, -4.2007, -4.4137, -4.632, -4.5324, -4.4867, -4.5305, -4.6382, -4.8345, -4.7971, -3.6985, -4.1901, -4.2285, -4.4513, -4.5548, -3.6388, -4.7614, -4.8936, -4.8946, -5.0594, -5.1966, -5.2006, -4.235, -4.8656, -5.3056, -5.6332, -5.6332, -5.6335, -5.6336, -5.6336, -5.6347, -5.8082, -5.8082, -5.8082, -5.8082, -5.4565, -4.5829, -6.1611, -6.1611, -6.1611, -4.9904, -5.0652, -5.8082, -4.9711, -4.2889, -5.3792, -5.3057, -5.3129, -5.4356, -5.4165, -5.468, -5.4981, -5.553, -2.5364, -3.952, -6.0495, -6.0495, -6.0495, -6.0503, -6.0503, -6.0503, -6.0503, -6.0503, -6.0503, -6.0751, -6.0495, -5.9252, -6.0495, -6.6841, -5.6548, -8.0074, -8.0074, -8.0043, -8.0043, -8.0043, -8.0043, -8.0043, -8.0043, -8.0043, -8.0043, -8.0043, -8.0043, -8.0043, -6.0809, -5.7042, -6.9697, -7.9971, -7.9971, -7.9971, -7.9971, -7.9971, -7.9971, -7.9971, -7.9971, -7.9971, -7.9971, -7.9945, -7.9945, -7.9945, -7.9945, -7.9945, -7.9955, -4.7091, -5.1468, -5.3213, -5.3213, -5.9416, -5.9416, -5.674, -7.8682, -7.8682, -7.8682, -7.8682, -7.8682, -7.8992, -7.8992, -7.8992, -7.8992, -7.8992, -7.8992, -7.8992, -7.8992, -7.8992, -7.8992, -7.8992, -7.8992, -7.8992, -7.8992, -7.8992, -7.8992, -7.8992, -7.8992, -7.8702, -5.3214, -7.8876, -7.8972, -7.8974, -7.8976, -7.8978, -7.8978, -7.8978, -7.8979, -7.8987, -7.8988, -7.8988, -7.8989, -7.8989, -7.8989, -7.8989, -7.8989], \"loglift\": [30.0, 29.0, 28.0, 27.0, 26.0, 25.0, 24.0, 23.0, 22.0, 21.0, 20.0, 19.0, 18.0, 17.0, 16.0, 15.0, 14.0, 13.0, 12.0, 11.0, 10.0, 9.0, 8.0, 7.0, 6.0, 5.0, 4.0, 3.0, 2.0, 1.0, 1.3995, 1.3959, 1.3947, 1.3925, 1.3787, 1.3786, 1.3761, 1.3719, 1.3688, 1.3685, 1.3681, 1.3673, 1.3669, 1.3669, 1.3632, 1.3602, 1.3571, 1.3554, 1.3551, 1.3543, 1.3527, 1.3526, 1.3515, 1.3515, 1.3493, 1.344, 1.3434, 1.3425, 1.3401, 1.3395, 1.2963, 1.2843, 1.2911, 1.3217, 1.2724, 1.2551, 1.2695, 1.2818, 1.2202, 1.2659, 1.152, 1.1896, 1.2832, 1.1056, 0.9369, 1.1748, 1.1179, 0.9459, 1.054, 1.0518, 0.9288, 0.4549, 0.8541, 0.6072, 0.8686, 0.9016, 0.8364, 1.543, 1.5411, 1.5377, 1.5318, 1.5244, 1.5219, 1.5219, 1.519, 1.5173, 1.5172, 1.5159, 1.5154, 1.5137, 1.5135, 1.5133, 1.5125, 1.5068, 1.5051, 1.5032, 1.5023, 1.5018, 1.4969, 1.4968, 1.495, 1.4949, 1.4936, 1.4933, 1.4933, 1.4931, 1.4918, 1.4438, 1.4347, 1.2946, 1.295, 1.1333, 1.3623, 1.2701, 1.2374, 1.0919, 0.8389, 1.1823, 1.0209, 0.7823, 0.8607, 0.9389, 0.6417, 0.6795, 0.8971, -0.7019, 0.3769, 0.7414, 2.0083, 2.0039, 2.003, 1.9946, 1.9943, 1.9941, 1.9939, 1.9932, 1.9844, 1.9838, 1.981, 1.9809, 1.9783, 1.977, 1.9743, 1.9649, 1.9596, 1.9566, 1.9553, 1.9517, 1.9516, 1.9516, 1.9512, 1.9453, 1.9427, 1.9365, 1.9322, 1.9264, 1.9262, 1.924, 1.8645, 1.8035, 1.8335, 1.8341, 1.724, 1.6491, 1.748, 1.7146, 1.81, 1.8178, 1.709, 1.8527, 1.1558, 1.3165, 1.4891, 1.1246, 1.5029, 1.7255, 1.1875, 1.6102, 0.3809, 1.3666, 1.1517, 0.4139, 2.1002, 2.0855, 2.085, 2.0846, 2.0844, 2.0839, 2.0816, 2.0727, 2.0683, 2.0659, 2.0552, 2.0538, 2.0446, 2.0446, 2.0376, 2.0344, 2.0287, 2.0287, 2.027, 2.026, 2.0221, 2.0221, 2.022, 2.0135, 2.0127, 2.0112, 2.0112, 2.0085, 2.0075, 2.0073, 1.957, 1.9569, 1.9697, 1.9465, 1.8696, 1.6932, 1.9281, 1.4878, 1.4275, 1.3697, 1.7032, 1.4443, 0.9628, 1.1843, 1.716, 1.0591, 1.1799, 1.0549, 1.1802, 0.609, 0.9374, 0.7823, 0.8672, 1.3718, 2.3604, 2.3602, 2.3597, 2.3554, 2.3158, 2.3147, 2.3129, 2.3013, 2.2998, 2.296, 2.2896, 2.2896, 2.2818, 2.2723, 2.2711, 2.2691, 2.256, 2.2444, 2.2228, 2.2228, 2.2201, 2.1967, 2.1916, 2.1916, 2.1916, 2.1914, 2.157, 2.1423, 2.1423, 2.1423, 2.1197, 1.8348, 1.5576, 1.5076, 0.7217, 1.411, 0.3769, -0.0411, 0.0839, 0.2805, 2.5273, 2.5273, 2.5259, 2.521, 2.5133, 2.4923, 2.4795, 2.464, 2.4544, 2.4509, 2.4447, 2.4437, 2.4417, 2.4329, 2.4292, 2.4291, 2.4192, 2.4191, 2.4033, 2.3794, 2.3794, 2.3782, 2.3703, 2.3529, 2.3453, 2.3453, 2.345, 2.3449, 2.3321, 2.332, 2.2777, 2.3145, 2.2221, 2.3145, 2.3168, 1.9646, 1.586, 1.8559, 1.8516, 0.9631, 1.3874, 0.9549, 1.15, 0.8091, 1.1744, 0.1334, -0.3561, 3.1198, 3.1051, 3.0941, 3.082, 3.082, 3.0784, 3.0674, 3.0596, 3.057, 3.0466, 3.0466, 3.0466, 3.0466, 3.0438, 3.0204, 2.9941, 2.9894, 2.9892, 2.9889, 2.9828, 2.9828, 2.9726, 2.9726, 2.9725, 2.9647, 2.9647, 2.9647, 2.9646, 2.9639, 2.9499, 2.893, 2.6352, 2.8255, 2.6669, 2.7478, 2.5737, 2.0864, 2.5103, 1.615, 2.453, 1.0538, 1.8908, 1.4273, 1.4438, 1.2002, 1.5675, 1.6053, 1.7872, 1.0392, 1.0754, 3.1485, 3.1437, 3.1429, 3.096, 3.096, 3.0909, 3.083, 3.0553, 3.0417, 3.0393, 3.0393, 3.0327, 3.0327, 3.0141, 3.0141, 3.0141, 3.0141, 3.0141, 3.0141, 3.0141, 3.0141, 3.0139, 3.0139, 3.0139, 3.0139, 3.0139, 3.0121, 2.9989, 2.9716, 2.9281, 2.7047, 2.6058, 2.5764, 2.0406, 2.7931, 2.5601, 1.4393, 1.8956, 2.4348, 2.2977, 2.4196, 2.3769, 2.4944, 1.7386, 2.6475, 1.4719, 0.9827, 1.7674, 1.8777, 2.2387, 0.3772, 1.6885, 1.1946, 3.6675, 3.6606, 3.6574, 3.6532, 3.64, 3.6231, 3.6062, 3.6049, 3.6032, 3.5983, 3.569, 3.5621, 3.5621, 3.5334, 3.4882, 3.4453, 3.4361, 3.3944, 3.3744, 3.3744, 3.3446, 3.3063, 3.2661, 3.2482, 3.2192, 3.2123, 3.1969, 3.1969, 3.1969, 3.1969, 2.8629, 2.7303, 2.8099, 2.7174, 2.722, 2.6303, 2.4477, 2.3223, 1.7888, 2.0209, 1.6592, 4.226, 4.1571, 4.1504, 4.1072, 4.0843, 4.0347, 4.033, 3.9958, 3.9955, 3.944, 3.8966, 3.895, 3.8706, 3.8687, 3.8558, 3.716, 3.716, 3.7159, 3.7158, 3.7158, 3.7147, 3.6305, 3.6304, 3.6304, 3.6304, 3.6061, 3.4973, 3.4344, 3.4344, 3.4344, 3.3519, 3.1124, 3.2834, 2.893, 2.5266, 3.0467, 2.3398, 2.278, 1.9112, 1.6828, 1.3846, 1.7579, 2.1342, 5.8193, 5.3695, 3.8841, 3.8841, 3.8841, 3.8833, 3.8833, 3.8833, 3.8833, 3.8833, 3.8833, 3.3681, 3.1689, 3.1265, 2.7527, 2.6076, 2.313, 2.0264, 2.0261, 2.0223, 2.0223, 2.0223, 2.0223, 2.0223, 2.0223, 2.0223, 2.0223, 2.0223, 2.0223, 2.0223, 1.79, 0.6194, 0.1517, 1.9992, 1.9992, 1.9992, 1.9992, 1.9992, 1.9992, 1.9992, 1.9992, 1.9992, 1.9992, 1.4946, 1.4946, 1.4946, 1.4946, 1.4946, 1.8019, 5.1422, 4.7704, 4.616, 4.616, 3.2004, 3.1813, 3.1527, 2.1561, 2.1561, 2.1561, 2.1561, 2.1561, 2.1345, 2.1343, 2.13, 2.13, 2.1295, 2.1289, 2.1287, 2.1287, 2.1287, 2.1287, 2.1287, 2.1287, 2.1287, 2.1287, 2.1287, 2.1287, 2.1287, 2.1286, 2.1226, 1.438, 1.2717, -3.6564, -3.486, -3.7317, 1.5708, 1.5708, 1.5708, -0.4406, 0.6086, -1.9827, -0.4597, -2.6316, -2.9279, -2.6317, -0.2341, -3.2575]}, \"token.table\": {\"Topic\": [5, 1, 8, 2, 1, 4, 8, 8, 1, 1, 3, 7, 1, 6, 1, 2, 3, 8, 1, 3, 4, 6, 1, 2, 3, 6, 1, 3, 9, 4, 1, 2, 6, 3, 10, 3, 6, 3, 4, 4, 3, 6, 8, 4, 9, 10, 5, 5, 6, 1, 2, 6, 1, 3, 5, 5, 6, 1, 9, 10, 6, 5, 6, 1, 10, 6, 4, 3, 2, 4, 9, 10, 2, 2, 3, 8, 9, 3, 1, 6, 5, 2, 3, 4, 2, 9, 7, 1, 8, 2, 2, 4, 1, 2, 5, 7, 9, 2, 5, 8, 1, 5, 5, 3, 7, 8, 2, 9, 2, 6, 7, 9, 1, 3, 9, 10, 2, 3, 4, 10, 4, 2, 2, 7, 5, 1, 8, 3, 6, 10, 5, 2, 9, 3, 2, 2, 2, 4, 2, 8, 3, 7, 7, 5, 6, 8, 5, 5, 7, 8, 8, 10, 1, 2, 3, 4, 5, 6, 7, 9, 5, 1, 2, 5, 2, 4, 5, 6, 1, 2, 3, 4, 5, 6, 7, 8, 9, 2, 2, 6, 9, 10, 6, 10, 3, 3, 8, 1, 7, 8, 1, 4, 10, 4, 3, 4, 3, 4, 2, 3, 4, 6, 1, 4, 4, 3, 2, 3, 1, 3, 8, 5, 5, 4, 1, 4, 5, 6, 2, 3, 9, 9, 4, 10, 3, 4, 6, 1, 4, 2, 10, 3, 10, 7, 1, 2, 9, 7, 3, 7, 9, 4, 3, 1, 6, 8, 2, 7, 8, 10, 10, 1, 3, 1, 1, 10, 7, 1, 2, 5, 7, 8, 6, 3, 4, 6, 9, 9, 6, 4, 8, 4, 6, 6, 9, 10, 5, 1, 1, 3, 5, 6, 6, 5, 9, 3, 6, 9, 10, 1, 2, 5, 6, 7, 7, 2, 4, 10, 9, 9, 1, 3, 6, 8, 4, 1, 4, 5, 9, 8, 7, 1, 7, 2, 9, 1, 2, 3, 4, 8, 10, 7, 8, 3, 2, 6, 7, 1, 2, 1, 7, 2, 3, 4, 7, 2, 3, 7, 4, 9, 3, 4, 8, 3, 10, 9, 5, 5, 7, 1, 2, 3, 3, 10, 3, 8, 1, 3, 4, 1, 5, 3, 4, 1, 9, 7, 1, 2, 3, 4, 7, 3, 8, 2, 4, 1, 3, 6, 2, 3, 3, 7, 9, 1, 2, 3, 4, 6, 8, 1, 2, 8, 10, 7, 1, 5, 4, 8, 9, 8, 1, 4, 7, 8, 8, 2, 2, 2, 1, 2, 3, 4, 6, 9, 10, 5, 7, 8, 3, 7, 1, 2, 4, 5, 6, 3, 6, 4, 5, 1, 4, 4, 9, 10, 1, 1, 1, 1, 3, 7, 6, 9, 1, 2, 3, 4, 6, 1, 6, 1, 3, 6, 2, 3, 4, 10, 8, 1, 5, 2, 5, 7, 2, 3, 4, 5, 7, 4, 1, 2, 6, 4, 3, 7, 3, 6, 2, 9, 8, 5, 5, 3, 5, 9, 4, 10, 6, 8, 1, 2, 3, 4, 8, 1, 2, 3, 4, 6, 2, 9, 2, 4, 4, 5, 4, 6, 1, 3, 4, 7, 9, 2, 4, 7, 5, 3, 3, 7, 10, 2, 4, 1, 3, 9, 8, 4, 7, 3, 2, 9, 2, 4, 6, 9, 10, 8, 6, 6, 7, 1, 2, 8, 1, 2, 3, 4, 6, 7, 1, 1, 2, 4, 2, 8, 1, 2, 3, 2, 1, 2, 1, 4, 10, 10, 2, 3, 9, 10, 7, 2, 9, 5, 5, 1, 5, 1, 2, 3, 4, 8, 8, 4, 10, 1, 2, 3, 4, 6, 1, 2, 9, 4, 3, 6, 10, 9, 1, 2, 4, 8, 9, 4, 5, 7, 2, 4, 2, 10, 7, 1, 2, 5, 9, 9, 3, 9, 1, 2, 3, 7, 2, 4, 8, 3, 4, 1, 2, 3, 5, 7, 7, 2, 4, 9, 5, 10, 4, 1, 3, 7, 8, 1, 3, 7, 4, 6, 8, 5, 9, 7, 6, 3, 10, 1, 4, 7, 8, 10, 1, 8, 3, 5, 6, 2, 3, 4, 6, 11, 3, 1, 6, 7, 1, 2, 3, 4, 1, 3, 6, 7, 2, 3, 5, 2, 3, 4, 5, 9, 9, 1, 3, 8, 5, 10, 10, 6, 2, 3, 5, 6, 3, 1, 1, 2, 6, 3, 10, 10, 1, 2, 2, 2, 7, 3, 7, 6, 4, 7, 8, 2, 1, 1, 7, 10, 10, 9, 1, 3, 6, 7, 8, 6, 1, 2, 1, 6, 7, 8, 8, 1, 4, 8, 8, 3, 6, 1, 2, 3, 6, 7, 3, 1, 2, 3, 4, 6, 7, 2, 4, 4, 6, 7, 9, 11, 4, 3, 9, 1, 7, 2, 6, 10, 6, 3, 8, 1, 2, 9, 7, 5, 1, 2, 3, 4, 8, 6, 1, 6, 7, 2, 2, 3, 4, 2, 6, 6, 1, 2, 3, 8, 1, 2, 5, 1, 6, 2, 3, 4, 6, 8, 8, 7, 1, 2, 4, 5, 6, 7, 4, 9, 1, 2, 3, 6, 4], \"Freq\": [0.809695486587815, 0.7090674968277225, 0.2532383917241866, 0.9341194284177762, 0.886229704118533, 0.09667960408565814, 0.9577484713282305, 0.8495469832368777, 0.9257437133037384, 0.2995784526926767, 0.5991569053853534, 0.09985948423089222, 0.9682147662761901, 0.9956623556988595, 0.9790320618352103, 0.7757066562723615, 0.11109258476219301, 0.7776480933353511, 0.25029069148671573, 0.12514534574335787, 0.37543603723007357, 0.12514534574335787, 0.5913542082469918, 0.26508981749003085, 0.08156609768924025, 0.040783048844620126, 0.05657397449087568, 0.7920356428722595, 0.11314794898175136, 0.962143269548409, 0.9251665731522568, 0.5812706355946334, 0.2906353177973167, 0.7689182302603272, 0.15378364605206546, 0.9593255868211134, 0.8413368748861799, 0.557824758015121, 0.9596562301184219, 0.9688807017928709, 0.09059553449809257, 0.45297767249046283, 0.45297767249046283, 0.14364482477490192, 0.5745792990996077, 0.14364482477490192, 0.9199657296556082, 0.8073035590998199, 0.16146071181996396, 0.8571965508194251, 0.08163776674470716, 0.04081888337235358, 0.3658994079672703, 0.18294970398363514, 0.3658994079672703, 0.7983662371205672, 0.15967324742411343, 0.9589183927600541, 0.7677601635694392, 0.9175914522134462, 0.879611713075442, 0.9459903401886117, 0.9190438991745377, 0.9187152682306217, 0.6745614941325911, 0.9940594445494092, 0.9519147566269562, 0.929023577610492, 0.7284282758082968, 0.0910535344760371, 0.0910535344760371, 0.0910535344760371, 0.9671863219625573, 0.9719307785482828, 0.4257158152957878, 0.4257158152957878, 0.08514316305915756, 0.9229339852827614, 0.42422988967672687, 0.4949348712895147, 0.9641887311581446, 0.440816029230628, 0.04640168728743453, 0.5104185601617798, 0.9479124994228946, 0.7957541667670294, 0.7914056613008231, 0.9520562132303824, 0.9016402237208062, 0.972114049394117, 0.08963141245149668, 0.8963141245149668, 0.1639292499475516, 0.40982312486887895, 0.027321541657925264, 0.027321541657925264, 0.35518004155302846, 0.7757066562723615, 0.4493866321466787, 0.5185230370923216, 0.9787486652140309, 0.011380798432721289, 0.9989665468760544, 0.20026984155547745, 0.15020238116660808, 0.6008095246664323, 0.9566373412132181, 0.921409516938911, 0.6409115349643724, 0.04272743566429149, 0.25636461398574895, 0.46081876218345336, 0.9791738898696397, 0.2678914619037883, 0.5357829238075766, 0.2678914619037883, 0.6374634486127267, 0.09443902942410767, 0.2597073309162961, 0.8522456689358741, 0.8348049763480485, 0.9692095758137884, 0.06611110148082253, 0.9255554207315154, 0.9199755505472852, 0.22562138141066893, 0.7520712713688964, 0.5768807258964216, 0.3845871505976144, 0.027470510756972457, 0.9988007604308745, 0.3864432178624329, 0.6183091485798927, 0.859267799085569, 0.7757066562723615, 0.9673897718491066, 0.9709176564837414, 0.7599392499629694, 0.28445251011363715, 0.5689050202272743, 0.40276316384884187, 0.5638684293883787, 0.9148164441370792, 0.19580209923063233, 0.5221389312816862, 0.2610694656408431, 0.9962324918293746, 0.8754890144826047, 0.9631741959690724, 0.7691139691813967, 0.7691139691813967, 0.5233866322837327, 0.2946408569180558, 0.024553404743171317, 0.1718738332021992, 0.22098064268854184, 0.024553404743171317, 0.024553404743171317, 0.1718738332021992, 0.07366021422951395, 0.8651049083347444, 0.5553999701642324, 0.42580664379257815, 0.018513332338807746, 0.5008611086791406, 0.261318839310856, 0.043553139885142665, 0.17421255954057066, 0.7685686078384897, 0.10600946315013651, 0.053004731575068256, 0.026502365787534128, 0.004417060964589021, 0.013251182893767064, 0.008834121929178042, 0.008834121929178042, 0.013251182893767064, 0.9934272692703026, 0.821158600791704, 0.04561992226620577, 0.09123984453241155, 0.04561992226620577, 0.9956721155206519, 0.6745229193111221, 0.9330755544499854, 0.9057208949380896, 0.7691875777029914, 0.9691645937359518, 0.823560158741175, 0.9346777865577082, 0.24551504997113707, 0.6137876249278427, 0.12275752498556854, 0.5482220664801688, 0.9802486291071904, 0.971240985439084, 0.09980205636654746, 0.8982185072989272, 0.485951376365146, 0.13884325039004172, 0.06942162519502086, 0.31239731337759385, 0.07556783408849434, 0.8312461749734377, 0.8839733272872466, 0.9701219070263565, 0.9228002065939245, 0.9818467203019404, 0.5225659611927126, 0.33966787477526317, 0.13064149029817815, 0.7316201163001894, 0.9244776217971661, 0.7599392499629694, 0.09324562700205356, 0.839210643018482, 0.9246116889389966, 0.9309364050633188, 0.07713149774222912, 0.8484464751645203, 0.07713149774222912, 0.6208602249003073, 0.8222237649362507, 0.10277797061703134, 0.9126207264424685, 0.037249825569080346, 0.05587473835362052, 0.3320676964906142, 0.6641353929812284, 0.49278466455934006, 0.49278466455934006, 0.3791890465169859, 0.3791890465169859, 0.8393610631339602, 0.9876833679022033, 0.9669660733539495, 0.5266298127712634, 0.8193486733830275, 0.8058750856611341, 0.12398078240940524, 0.7762784983564961, 0.9711084024791393, 0.9802918175482576, 0.9465319936821274, 0.8878388363461844, 0.9347796119480085, 0.08136030636534365, 0.48816183819206194, 0.40680153182671824, 0.729343397187278, 0.663140412331502, 0.3320574157485607, 0.6641148314971214, 0.9613992967790659, 0.8887410627001698, 0.055546316418760615, 0.8393610631339602, 0.6905057841189318, 0.0668231403986063, 0.022274380132868768, 0.17819504106295014, 0.022274380132868768, 0.8796248315939005, 0.2602339498751689, 0.19517546240637665, 0.13011697493758445, 0.3903509248127533, 0.6208602249003073, 0.8410881383462446, 0.9325496268664759, 0.7691875777029914, 0.8962650202848886, 0.05272147178146404, 0.9181593596213843, 0.8220128564365405, 0.5589227692161475, 0.732312492204159, 0.9153189582658952, 0.8276205634740369, 0.10748319006156323, 0.03224495701846897, 0.03224495701846897, 0.9394450690411362, 0.8805907691166147, 0.08005370628332861, 0.12985613840434546, 0.9089929688304181, 0.8218143198146042, 0.16436286396292085, 0.6243972888896295, 0.10406621481493826, 0.034688738271646084, 0.20813242962987652, 0.011562912757215361, 0.791604284806815, 0.08548474890138183, 0.8548474890138184, 0.7428322191921813, 0.6208602249003073, 0.901944101078054, 0.8692620847914352, 0.034770483391657406, 0.034770483391657406, 0.034770483391657406, 0.9373716675204229, 0.5879541499042884, 0.38521133959246484, 0.02027428103118236, 0.9517586458133969, 0.8215479663255585, 0.9379388259429958, 0.9759567170310017, 0.7549126739380191, 0.38437538402824806, 0.5765630760423721, 0.1336512906114847, 0.3118530114267976, 0.029700286802552153, 0.47520458884083444, 0.044550430203828234, 0.7375602518940306, 0.8853490908383609, 0.7691611330412909, 0.9650359662467235, 0.9523802021530273, 0.16861797169201218, 0.6744718867680487, 0.9187279021246921, 0.7757066562723615, 0.6367125828113998, 0.8884910573301237, 0.7161131925871081, 0.03255059966305037, 0.16275299831525186, 0.06510119932610074, 0.764024209820144, 0.03321844390522365, 0.1993106634313419, 0.9882607839162879, 0.7412697146942226, 0.100262192338638, 0.846658513081832, 0.044560974372728004, 0.8135557466445676, 0.11622224952065252, 0.7677382494096903, 0.9384828932949698, 0.10333512344884715, 0.8266809875907772, 0.7332324092149701, 0.09165405115187127, 0.1603945895157747, 0.8849717525120521, 0.47727882376914493, 0.7527955440577763, 0.22911168732193193, 0.587936218277629, 0.01781624903871603, 0.3919574788517527, 0.8652566253132582, 0.12978849379698873, 0.8904892849279172, 0.9221019422395323, 0.7223390664816398, 0.222258174302043, 0.8195514982128398, 0.29072200209174676, 0.21804150156881005, 0.14536100104587338, 0.07268050052293669, 0.21804150156881005, 0.9076936391501147, 0.8975781121257876, 0.9503292386899851, 0.9694829483087303, 0.7840422105305782, 0.19601055263264455, 0.8340309192750904, 0.2766067762612547, 0.7112745675289406, 0.8153475795045532, 0.05095922371903457, 0.10191844743806915, 0.44766816031256323, 0.1790672641250253, 0.01790672641250253, 0.340227801837548, 0.01790672641250253, 0.7691139691813967, 0.23053541249220325, 0.23053541249220325, 0.5379159624818076, 0.506390417389823, 0.9522873570684766, 0.9061735302505384, 0.9814420963522773, 0.3669334056711621, 0.2935467245369297, 0.3669334056711621, 0.9826013002627232, 0.7327922933358341, 0.13459450285760216, 0.014954944761955797, 0.10468461333369057, 0.8482584726294398, 0.9483228133235538, 0.9664165283413985, 0.9742801672523487, 0.02792157827549099, 0.05584315655098198, 0.7259610351627657, 0.16752946965294593, 0.02792157827549099, 0.02792157827549099, 0.6745614743928942, 0.23423353688321755, 0.7027006106496526, 0.9743928815521049, 0.9520735767788551, 0.03526198432514278, 0.4431455414355873, 0.18710589527280352, 0.3151257183541954, 0.049238393492843036, 0.8604284488838171, 0.9866373272625698, 0.9266240287123144, 0.9551708695777801, 0.9020413973089304, 0.9779161233615469, 0.8520787462720809, 0.9593400057837073, 0.6208602249003073, 0.7375407949330364, 0.9783897092269963, 0.5009103768878945, 0.9353557972069666, 0.9367476124277997, 0.9057667409042008, 0.7550223411960689, 0.5825996183080063, 0.41614258450571884, 0.2771040453409409, 0.49396808082515553, 0.15662402562748834, 0.060240009856726284, 0.012048001971345257, 0.9331341504371323, 0.9857498255947005, 0.20612731305879334, 0.7214455957057766, 0.051531828264698334, 0.995543755165641, 0.15274718873296314, 0.6109887549318526, 0.3054943774659263, 0.7691875777029914, 0.8546863643813472, 0.14244772739689118, 0.09230874097206918, 0.3692349638882767, 0.4615437048603459, 0.139678237708308, 0.19047032414769274, 0.49522284278400114, 0.10158417287876946, 0.06349010804923091, 0.8445833831572531, 0.2975177057192926, 0.6597131735514749, 0.038806657267733816, 0.8336186494306673, 0.16423621016112203, 0.8211810508056101, 0.9220821465675902, 0.05122678592042168, 0.9216708218661942, 0.8466481098607774, 0.7691875777029914, 0.8757585444270343, 0.7316066887859864, 0.9839157952898216, 0.9507011109657022, 0.7356560702098344, 0.12623816927527465, 0.7574290156516479, 0.24719111216381426, 0.6179777804095357, 0.26637801970523833, 0.04439633661753973, 0.35517069294031783, 0.08879267323507946, 0.22198168308769864, 0.023958111466116712, 0.5989527866529178, 0.1916648917289337, 0.11979055733058357, 0.07187433439835014, 0.9544791969928631, 0.8123006918991648, 0.18033487448697524, 0.7664232165696447, 0.10873272510932196, 0.8698618008745757, 0.8837381636355142, 0.941073722030953, 0.2650467195281305, 0.41965730591954, 0.1987850396460979, 0.13252335976406526, 0.8570795580597769, 0.7744294932815232, 0.21445739813949874, 0.7913615664441532, 0.9705441100750823, 0.8316197845584012, 0.9801404607904497, 0.8193443116356572, 0.6744219098071326, 0.9606798987972137, 0.9346543534857916, 0.7408762376783818, 0.5502719552050327, 0.36684797013668846, 0.932699072229759, 0.6491218160217801, 0.3461983018782827, 0.8987169162038167, 0.9570924217725125, 0.03300318695767284, 0.5687010738187959, 0.14217526845469897, 0.07108763422734948, 0.07108763422734948, 0.07108763422734948, 0.8482584726294398, 0.9706101859166727, 0.792273527813293, 0.8194223239087222, 0.42872659747267067, 0.12249331356362018, 0.48997325425448074, 0.4933547167179528, 0.11385108847337372, 0.07590072564891581, 0.037950362824457906, 0.07590072564891581, 0.20872699553451848, 0.9315571239280179, 0.04151782220961285, 0.4982138665153542, 0.45669604430574134, 0.44148823376228885, 0.44148823376228885, 0.4444071958835104, 0.029627146392234027, 0.5036614886679784, 0.9618052193610673, 0.09156050207102301, 0.8972929202960256, 0.8734795190522253, 0.07940722900474775, 0.02646907633491592, 0.5220653145945805, 0.7709478157954625, 0.14921570628299272, 0.049738568760997574, 0.7375657596187133, 0.922636516287066, 0.9642176900548897, 0.019677912041936522, 0.9418000180860889, 0.809687291324924, 0.80138805833937, 0.1946228141681327, 0.3577128146007708, 0.04769504194676944, 0.21462768876046248, 0.38156033557415553, 0.7691139691813967, 0.8242176003913212, 0.19446220350659105, 0.5833866105197731, 0.12851129741390196, 0.03212782435347549, 0.6746843114229852, 0.1124473852371642, 0.06425564870695098, 0.3014208705565001, 0.36170504466780007, 0.24113669644520005, 0.7599392499629694, 0.7484159576361903, 0.08315732862624337, 0.08315732862624337, 0.8471050581197922, 0.21836819493809154, 0.3930627508885648, 0.08734727797523661, 0.21836819493809154, 0.08734727797523661, 0.35424358946606943, 0.6072747247989762, 0.8393610631339602, 0.07484981472721011, 0.8981977767265212, 0.5212899538253329, 0.5212899538253329, 0.8393610631339602, 0.2228298877615698, 0.4456597755231396, 0.1114149438807849, 0.16712241582117737, 0.9518618129069646, 0.399964477139864, 0.399964477139864, 0.5296335618057781, 0.03530890412038521, 0.21185342472231128, 0.21185342472231128, 0.45882615297750845, 0.5305177393802442, 0.7691875777029914, 0.919206219862207, 0.5917585519813687, 0.3337601742148824, 0.04603588609860447, 0.48337680403534694, 0.011508971524651117, 0.11508971524651117, 0.8824751331526605, 0.6353598209281752, 0.2242446426805324, 0.1121223213402662, 0.9199657296556082, 0.7667757801980511, 0.9346543534857916, 0.8764112027886923, 0.049236584426331026, 0.009847316885266206, 0.059083901311597235, 0.4777805871414131, 0.2606075929862253, 0.2606075929862253, 0.11887784795344677, 0.8321449356741275, 0.7764776981497858, 0.19418281943877835, 0.7767312777551134, 0.9574428648519312, 0.7672612364945706, 0.8029497134900244, 0.16058994269800486, 0.6186120409620824, 0.04758554161246788, 0.04758554161246788, 0.26965140247065134, 0.8516775216251864, 0.446790988100038, 0.5584887351250475, 0.3208639596776813, 0.4171231475809857, 0.256691167742145, 0.047571398301689265, 0.7373566736761836, 0.023785699150844632, 0.2140712923576017, 0.6560247616898739, 0.8712204936512502, 0.9302548043965019, 0.05581528826379011, 0.009302548043965018, 0.7025566602837725, 0.10644797883087463, 0.021289595766174927, 0.17031676612939942, 0.9728887881120492, 0.9806444055978543, 0.7927095008001572, 0.7311778428281163, 0.2016773884791447, 0.7730966558367214, 0.9901312866462455, 0.9314943895860366, 0.15149680805119253, 0.3787420201279813, 0.15149680805119253, 0.30299361610238507, 0.84829153117915, 0.2848497826032205, 0.4027186581631738, 0.31431700149320885, 0.7805184168147636, 0.8112883676421114, 0.7375658138538713, 0.7913994061436042, 0.06206095956412747, 0.07240445282481538, 0.09309143934619121, 0.7757619945515934, 0.9057502193680433, 0.9061285840501427, 0.955127111525062, 0.2619328558561783, 0.7334119963972993, 0.6269631409178456, 0.20898771363928184, 0.6745357049569047, 0.08788569148923103, 0.8788569148923103, 0.9872990331433318, 0.940084679644721, 0.026859562275563457, 0.35599179616506993, 0.5695868738641119, 0.8337964168452192, 0.6423820602905975, 0.2919918455866352, 0.7691139691813967, 0.9951516427426154, 0.9783119344705823, 0.12797697629811716, 0.7678618577887031, 0.12797697629811716, 0.7745065431157043, 0.49040305565361636, 0.38154169738107574, 0.41166341033221326, 0.025101427459281296, 0.00502028549185626, 0.17068970672311282, 0.7913994061436042, 0.4721487622950709, 0.5246097358834121, 0.8908804387873727, 0.08798819148517262, 0.010998523935646577, 0.010998523935646577, 0.7691139691813967, 0.28615810229507127, 0.28615810229507127, 0.4006213432130998, 0.9017249882795869, 0.9582649023877831, 0.9497235586704209, 0.1432144782230187, 0.1969199075566507, 0.4296434346690561, 0.08950904888938668, 0.1432144782230187, 0.9105045541396425, 0.2628142896308553, 0.32851786203856914, 0.0876047632102851, 0.30661667123599784, 0.021901190802571274, 0.021901190802571274, 0.6766786492720418, 0.3045053921724188, 0.9201010046574334, 0.2540605474637264, 0.5807098227742319, 0.14517745569355797, 0.7491535297113987, 0.8839730666385169, 0.29508979403694413, 0.5901795880738883, 0.8636149359630939, 0.123373562280442, 0.07260502450606371, 0.9196636437434736, 0.6744150185710849, 0.9527522897803627, 0.7762006640624187, 0.1791232301682505, 0.5661936646582055, 0.3996661162293215, 0.016652754842888397, 0.888512015839525, 0.7316414537489967, 0.6208732554154652, 0.11565286130288077, 0.1886967737047002, 0.060869927001516194, 0.006086992700151619, 0.7672612364945706, 0.9791180517393336, 0.8073785465297669, 0.8773705222392827, 0.9725891758441679, 0.9690439914262966, 0.9122516578354669, 0.9770244511659351, 0.7757066562723615, 0.9209010925050742, 0.9793227324235958, 0.5382894647217076, 0.08499307337711172, 0.19831717121326067, 0.16998614675422344, 0.008463082212142396, 0.04231541106071198, 0.9563282899720907, 0.9796622891393377, 0.5378726914303275, 0.5455735783428777, 0.024798799015585352, 0.27278678917143884, 0.09919519606234141, 0.049597598031170705, 0.769113905794293, 0.8195242227571397, 0.34104030124484686, 0.20152381437195496, 0.34104030124484686, 0.015501831874765766, 0.09301099124859459, 0.015501831874765766, 0.9768971339262421, 0.46081876218345336, 0.1703070946157566, 0.14597750967064851, 0.5839100386825941, 0.09731833978043235, 0.8809409673572317], \"Term\": [\"a_num\", \"able\", \"able\", \"accepted\", \"access\", \"access\", \"accurate\", \"actually\", \"add\", \"address\", \"address\", \"address\", \"again\", \"agent\", \"ago\", \"aide\", \"all\", \"all\", \"already\", \"already\", \"already\", \"already\", \"also\", \"also\", \"also\", \"also\", \"always\", \"always\", \"always\", \"am\", \"api\", \"apologize\", \"apologize\", \"app\", \"app\", \"appear\", \"appinfo\", \"apple\", \"applicant\", \"apply\", \"appreciate\", \"appreciate\", \"appreciate\", \"archive\", \"archive\", \"archive\", \"array_length\", \"asn\", \"asn\", \"available\", \"available\", \"available\", \"average\", \"average\", \"average\", \"avg\", \"avg\", \"awesome\", \"backend\", \"bandwidth\", \"believe\", \"between\", \"big\", \"bit\", \"blob\", \"body\", \"book\", \"broadband\", \"browser\", \"browser\", \"browser\", \"browser\", \"buffer\", \"bug\", \"build\", \"build\", \"build\", \"cable\", \"calculate\", \"calculate\", \"calculation\", \"call\", \"call\", \"call\", \"camera\", \"capture\", \"catch\", \"cause\", \"center\", \"chair\", \"challenge\", \"challenge\", \"change\", \"change\", \"change\", \"change\", \"change\", \"checklist\", \"city\", \"city\", \"client\", \"client\", \"client_geolocation\", \"close\", \"close\", \"close\", \"cloud\", \"colleague\", \"collect\", \"collect\", \"collect\", \"collision\", \"column\", \"com\", \"com\", \"com\", \"community\", \"community\", \"community\", \"concept\", \"condition\", \"conference\", \"congestion\", \"congestion\", \"congsignal\", \"connect\", \"connect\", \"connection\", \"connection\", \"connection\", \"connection_spec\", \"console\", \"console\", \"consumer\", \"container\", \"content\", \"continue\", \"convening\", \"copy\", \"copy\", \"cordially\", \"cordially\", \"correct\", \"country\", \"country\", \"country\", \"country_code\", \"country_name\", \"couple\", \"crappy\", \"crontab\", \"cross\", \"data\", \"data\", \"data\", \"data\", \"data\", \"data\", \"data\", \"data\", \"data_direction\", \"dataset\", \"dataset\", \"dataset\", \"date\", \"date\", \"date\", \"date\", \"datum\", \"datum\", \"datum\", \"datum\", \"datum\", \"datum\", \"datum\", \"datum\", \"datum\", \"deadline\", \"dear\", \"dear\", \"dear\", \"dear\", \"debug\", \"deduce\", \"default\", \"deferent\", \"definitive\", \"defunct\", \"delay\", \"dense\", \"deployment\", \"deployment\", \"deployment\", \"depth\", \"detect\", \"detection\", \"digital\", \"digital\", \"discuss\", \"discuss\", \"discuss\", \"discuss\", \"discussion\", \"discussion\", \"dns\", \"document\", \"domain\", \"down\", \"download\", \"download\", \"download\", \"download_mbps\", \"downloadspeed\", \"drop\", \"due\", \"due\", \"duration\", \"easily\", \"easy\", \"easy\", \"easy\", \"eliminate\", \"else\", \"else\", \"email\", \"email\", \"email\", \"end\", \"end\", \"ensure\", \"ensure\", \"entry\", \"entry\", \"episode\", \"error\", \"event\", \"exact\", \"excerpt\", \"expect\", \"expect\", \"experiment\", \"facilitate\", \"factor\", \"fail\", \"failure\", \"familiar\", \"far\", \"far\", \"far\", \"fellow\", \"fellowship\", \"few\", \"few\", \"figure\", \"file\", \"file\", \"filing\", \"find\", \"find\", \"find\", \"find\", \"find\", \"fine\", \"first\", \"first\", \"first\", \"first\", \"flaw\", \"flow\", \"focus\", \"force\", \"forward\", \"forward\", \"frequency\", \"fully\", \"funding\", \"gather\", \"geo\", \"get\", \"get\", \"get\", \"get\", \"global\", \"google\", \"google\", \"greatly\", \"greatly\", \"greeting\", \"greeting\", \"group\", \"group\", \"group\", \"group\", \"group\", \"guess\", \"guideline\", \"guideline\", \"hand\", \"hash\", \"hear\", \"help\", \"help\", \"help\", \"help\", \"helpful\", \"here\", \"here\", \"here\", \"historical\", \"hop\", \"hopefully\", \"however\", \"impact\", \"improvement\", \"improvement\", \"include\", \"include\", \"include\", \"include\", \"include\", \"inconsistency\", \"increase\", \"incredibly\", \"indicate\", \"industry\", \"initial\", \"initial\", \"instal\", \"installation\", \"intend\", \"interconnection\", \"interest\", \"interest\", \"interest\", \"interest\", \"interested\", \"interested\", \"interested\", \"interesting\", \"international\", \"internet\", \"internet\", \"internet\", \"interval\", \"interval\", \"intervention\", \"is_explicitly_defined\", \"isp\", \"isp\", \"issue\", \"issue\", \"issue\", \"javascript\", \"json\", \"just\", \"just\", \"know\", \"know\", \"know\", \"lab\", \"lab\", \"laptop\", \"large\", \"last\", \"last\", \"lately\", \"latency\", \"latency\", \"latency\", \"latency\", \"latency\", \"later\", \"latitude\", \"launch\", \"layer\", \"like\", \"like\", \"likely\", \"limit\", \"limit\", \"link\", \"link\", \"link\", \"list\", \"list\", \"list\", \"list\", \"list\", \"live\", \"local\", \"local\", \"local\", \"locally\", \"locate\", \"log\", \"log_time\", \"long\", \"long\", \"long\", \"longitude\", \"look\", \"look\", \"look\", \"look\", \"m_lab\", \"machine\", \"mailing\", \"maintain\", \"make\", \"make\", \"make\", \"make\", \"make\", \"make\", \"master\", \"maximum\", \"maximum\", \"maybe\", \"mbp\", \"mbp\", \"measurement\", \"measurement\", \"measurement\", \"measurement\", \"median\", \"medium\", \"meet\", \"meeting\", \"meg\", \"message\", \"methodology\", \"metric\", \"middle\", \"milli\", \"minimum\", \"minrtt\", \"miss\", \"mlab\", \"modernize\", \"monitor\", \"month\", \"month\", \"more\", \"more\", \"more\", \"more\", \"more\", \"msec\", \"msg\", \"much\", \"much\", \"much\", \"multimedia\", \"multiple\", \"multiple\", \"multiple\", \"native\", \"ndt\", \"ndt\", \"net\", \"net\", \"net\", \"network\", \"network\", \"network\", \"network\", \"network\", \"networking\", \"new\", \"new\", \"new\", \"no\", \"normal\", \"normal\", \"notice\", \"notice\", \"notification\", \"notify\", \"nowhere\", \"null\", \"num\", \"number\", \"obviously\", \"occur\", \"one\", \"one\", \"online\", \"online\", \"only\", \"only\", \"only\", \"only\", \"only\", \"open\", \"open\", \"open\", \"open\", \"open\", \"operation\", \"operator\", \"opportunity\", \"opportunity\", \"order\", \"order\", \"organization\", \"origin\", \"other\", \"other\", \"other\", \"other\", \"packet\", \"paper\", \"paper\", \"parallel\", \"partition_date\", \"partner\", \"past\", \"pattern\", \"pc\", \"peer\", \"peering\", \"pende\", \"people\", \"people\", \"perform\", \"performance\", \"performance\", \"ping\", \"pipeline\", \"pipeline\", \"platform\", \"platform\", \"platform\", \"platform\", \"platform\", \"plx\", \"pm\", \"port\", \"possibility\", \"possible\", \"possible\", \"possible\", \"post\", \"post\", \"post\", \"post\", \"post\", \"post\", \"power\", \"present\", \"present\", \"present\", \"previous\", \"previous\", \"problem\", \"problem\", \"problem\", \"proceeding\", \"process\", \"process\", \"project\", \"project\", \"project\", \"proof\", \"provide\", \"provide\", \"provide\", \"pt\", \"publication\", \"publish\", \"publish\", \"pull\", \"quantiles\", \"query\", \"query\", \"question\", \"question\", \"question\", \"question\", \"ray\", \"really\", \"reason\", \"reason\", \"receive\", \"receive\", \"receive\", \"receive\", \"receive\", \"recent\", \"recent\", \"recent\", \"reception\", \"record\", \"record\", \"record\", \"reflect\", \"regard\", \"regard\", \"regard\", \"regard\", \"regard\", \"region\", \"region\", \"regulatory\", \"relate\", \"relate\", \"related\", \"related\", \"relationship\", \"release\", \"release\", \"release\", \"release\", \"remediation\", \"replace\", \"replace\", \"report\", \"report\", \"report\", \"report\", \"research\", \"research\", \"resort\", \"response\", \"responsiveness\", \"result\", \"result\", \"result\", \"result\", \"result\", \"reverse\", \"review\", \"review\", \"review\", \"rn\", \"round\", \"routing\", \"run\", \"run\", \"run\", \"run\", \"same\", \"same\", \"same\", \"scale\", \"scale\", \"screenshot\", \"script\", \"script\", \"sec\", \"sec_to_timestamp\", \"second\", \"second\", \"see\", \"see\", \"see\", \"see\", \"seek\", \"seem\", \"seem\", \"select\", \"select\", \"select\", \"send\", \"send\", \"send\", \"send\", \"sender\", \"sense\", \"server\", \"server\", \"server\", \"service\", \"service\", \"service\", \"service\", \"set\", \"show\", \"side\", \"significant\", \"site\", \"site\", \"snap\", \"software\", \"specific\", \"specific\", \"specific\", \"specific\", \"specify\", \"speed\", \"speed\", \"speed\", \"speedtest\", \"spend\", \"stability\", \"staging\", \"state\", \"state\", \"state\", \"state\", \"steadily\", \"step\", \"still\", \"stop\", \"stop\", \"store\", \"store\", \"strange\", \"subject\", \"subject\", \"submission\", \"submit\", \"submit\", \"subscribe\", \"subscribe\", \"suggest\", \"sure\", \"sure\", \"surprising\", \"system\", \"table\", \"tcp\", \"tcp\", \"tcp\", \"tcp_info\", \"term\", \"test\", \"test\", \"test\", \"test\", \"test\", \"test_prepare\", \"th\", \"th\", \"thank\", \"thank\", \"thank\", \"thank\", \"thanx\", \"think\", \"think\", \"think\", \"thousand\", \"thread\", \"throughput\", \"time\", \"time\", \"time\", \"time\", \"time\", \"too\", \"tool\", \"tool\", \"tool\", \"tool\", \"tool\", \"tool\", \"topic\", \"topic\", \"topology\", \"traceroute\", \"traceroute\", \"traceroute\", \"track\", \"traffic\", \"transparency\", \"transparency\", \"try\", \"try\", \"type\", \"type\", \"unit\", \"unsubscribe\", \"up\", \"up\", \"update\", \"update\", \"update\", \"upgrade\", \"upload_mbps\", \"use\", \"use\", \"use\", \"use\", \"use\", \"utc\", \"value\", \"variable\", \"variation\", \"video\", \"view\", \"visit\", \"visualization\", \"vm\", \"wait_for_test_finalize\", \"wait_for_test_msg_or_test_finish\", \"way\", \"way\", \"way\", \"way\", \"web\", \"web\", \"web\", \"week\", \"weekend\", \"well\", \"well\", \"well\", \"well\", \"well\", \"whenever\", \"window\", \"work\", \"work\", \"work\", \"work\", \"work\", \"work\", \"workshop\", \"wrapper\", \"write\", \"write\", \"write\", \"write\", \"yesterday\"]}, \"R\": 30, \"lambda.step\": 0.01, \"plot.opts\": {\"xlab\": \"PC1\", \"ylab\": \"PC2\"}, \"topic.order\": [9, 10, 6, 1, 4, 8, 2, 5, 3, 12, 11, 7]};\n",
       "\n",
       "function LDAvis_load_lib(url, callback){\n",
       "  var s = document.createElement('script');\n",
       "  s.src = url;\n",
       "  s.async = true;\n",
       "  s.onreadystatechange = s.onload = callback;\n",
       "  s.onerror = function(){console.warn(\"failed to load library \" + url);};\n",
       "  document.getElementsByTagName(\"head\")[0].appendChild(s);\n",
       "}\n",
       "\n",
       "if(typeof(LDAvis) !== \"undefined\"){\n",
       "   // already loaded: just create the visualization\n",
       "   !function(LDAvis){\n",
       "       new LDAvis(\"#\" + \"ldavis_el300841403530546622083298087358\", ldavis_el300841403530546622083298087358_data);\n",
       "   }(LDAvis);\n",
       "}else if(typeof define === \"function\" && define.amd){\n",
       "   // require.js is available: use it to load d3/LDAvis\n",
       "   require.config({paths: {d3: \"https://d3js.org/d3.v5\"}});\n",
       "   require([\"d3\"], function(d3){\n",
       "      window.d3 = d3;\n",
       "      LDAvis_load_lib(\"https://cdn.jsdelivr.net/gh/bmabey/pyLDAvis@3.3.1/pyLDAvis/js/ldavis.v3.0.0.js\", function(){\n",
       "        new LDAvis(\"#\" + \"ldavis_el300841403530546622083298087358\", ldavis_el300841403530546622083298087358_data);\n",
       "      });\n",
       "    });\n",
       "}else{\n",
       "    // require.js not available: dynamically load d3 & LDAvis\n",
       "    LDAvis_load_lib(\"https://d3js.org/d3.v5.js\", function(){\n",
       "         LDAvis_load_lib(\"https://cdn.jsdelivr.net/gh/bmabey/pyLDAvis@3.3.1/pyLDAvis/js/ldavis.v3.0.0.js\", function(){\n",
       "                 new LDAvis(\"#\" + \"ldavis_el300841403530546622083298087358\", ldavis_el300841403530546622083298087358_data);\n",
       "            })\n",
       "         });\n",
       "}\n",
       "</script>"
      ],
      "text/plain": [
       "PreparedData(topic_coordinates=              x         y  topics  cluster       Freq\n",
       "topic                                                \n",
       "8     -0.236581 -0.144073       1        1  24.340197\n",
       "9     -0.092857  0.191465       2        1  21.203775\n",
       "5     -0.165547 -0.112091       3        1  12.964782\n",
       "0     -0.115047  0.145825       4        1  11.927420\n",
       "3      0.212567 -0.193642       5        1   9.415535\n",
       "7      0.050172 -0.008181       6        1   7.928474\n",
       "1      0.021030  0.004744       7        1   4.183686\n",
       "4     -0.027863 -0.108519       8        1   4.052313\n",
       "2      0.095890  0.080541       9        1   2.338957\n",
       "11     0.103002  0.057685      10        1   1.296941\n",
       "10     0.081011  0.043751      11        1   0.242902\n",
       "6      0.074222  0.042494      12        1   0.105019, topic_info=                    Term       Freq       Total Category  logprob  loglift\n",
       "1480     connection_spec  264.00000  264.000000  Default  30.0000  30.0000\n",
       "1478  client_geolocation  245.00000  245.000000  Default  29.0000  29.0000\n",
       "149         country_code  206.00000  206.000000  Default  28.0000  28.0000\n",
       "137                  web  118.00000  118.000000  Default  27.0000  27.0000\n",
       "47                  test  199.00000  199.000000  Default  26.0000  26.0000\n",
       "...                  ...        ...         ...      ...      ...      ...\n",
       "77                client    0.00664   87.867297  Topic12  -7.8989  -2.6316\n",
       "137                  web    0.00664  118.160261  Topic12  -7.8989  -2.9279\n",
       "1491                snap    0.00664   87.867136  Topic12  -7.8989  -2.6317\n",
       "325              already    0.00664    7.990709  Topic12  -7.8989  -0.2341\n",
       "72                   use    0.00664  164.284738  Topic12  -7.8989  -3.2575\n",
       "\n",
       "[617 rows x 6 columns], token_table=      Topic      Freq       Term\n",
       "term                            \n",
       "1990      5  0.809695      a_num\n",
       "0         1  0.709067       able\n",
       "0         8  0.253238       able\n",
       "890       2  0.934119   accepted\n",
       "242       1  0.886230     access\n",
       "...     ...       ...        ...\n",
       "445       1  0.170307      write\n",
       "445       2  0.145978      write\n",
       "445       3  0.583910      write\n",
       "445       6  0.097318      write\n",
       "2561      4  0.880941  yesterday\n",
       "\n",
       "[825 rows x 3 columns], R=30, lambda_step=0.01, plot_opts={'xlab': 'PC1', 'ylab': 'PC2'}, topic_order=[9, 10, 6, 1, 4, 8, 2, 5, 3, 12, 11, 7])"
      ]
     },
     "execution_count": 10,
     "metadata": {},
     "output_type": "execute_result"
    }
   ],
   "source": [
    "pyLDAvis.enable_notebook()\n",
    "vis = pyLDAvis.gensim_models.prepare(lda_model, corpus, id2word)\n",
    "vis"
   ]
  }
 ],
 "metadata": {
  "kernelspec": {
   "display_name": "Python 3.9.13 ('.venv': poetry)",
   "language": "python",
   "name": "python3"
  },
  "language_info": {
   "codemirror_mode": {
    "name": "ipython",
    "version": 3
   },
   "file_extension": ".py",
   "mimetype": "text/x-python",
   "name": "python",
   "nbconvert_exporter": "python",
   "pygments_lexer": "ipython3",
   "version": "3.9.13"
  },
  "orig_nbformat": 4,
  "vscode": {
   "interpreter": {
    "hash": "b26a7a2c84521b2bc0f4098ecebc5c3e99b7b99dab08c9685b92d920b3f0c31e"
   }
  }
 },
 "nbformat": 4,
 "nbformat_minor": 2
}
