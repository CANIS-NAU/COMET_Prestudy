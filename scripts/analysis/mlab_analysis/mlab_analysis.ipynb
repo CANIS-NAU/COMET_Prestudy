{
 "cells": [
  {
   "cell_type": "markdown",
   "metadata": {},
   "source": [
    "Set the path where the csv file is located, then import all necessary libs."
   ]
  },
  {
   "cell_type": "code",
   "execution_count": 1,
   "metadata": {},
   "outputs": [],
   "source": [
    "csv_file = \"/home/quinton/Documents/Projects/COMET_Prestudy/scripts/collection/formal_scripts/output_data_mlab_01_2017.tsv\" # **PLACE CSV FILEPATH HERE**\n",
    "\n",
    "import pandas as pd\n",
    "import nltk"
   ]
  },
  {
   "cell_type": "markdown",
   "metadata": {},
   "source": [
    "Load csv data into the program. Show head data to verify successful load"
   ]
  },
  {
   "cell_type": "code",
   "execution_count": 2,
   "metadata": {},
   "outputs": [
    {
     "data": {
      "text/html": [
       "<div>\n",
       "<style scoped>\n",
       "    .dataframe tbody tr th:only-of-type {\n",
       "        vertical-align: middle;\n",
       "    }\n",
       "\n",
       "    .dataframe tbody tr th {\n",
       "        vertical-align: top;\n",
       "    }\n",
       "\n",
       "    .dataframe thead th {\n",
       "        text-align: right;\n",
       "    }\n",
       "</style>\n",
       "<table border=\"1\" class=\"dataframe\">\n",
       "  <thead>\n",
       "    <tr style=\"text-align: right;\">\n",
       "      <th></th>\n",
       "      <th>post_id</th>\n",
       "      <th>title</th>\n",
       "      <th>date_epoch</th>\n",
       "      <th>date_ymd</th>\n",
       "      <th>author</th>\n",
       "      <th>content</th>\n",
       "      <th>replies</th>\n",
       "    </tr>\n",
       "  </thead>\n",
       "  <tbody>\n",
       "    <tr>\n",
       "      <th>0</th>\n",
       "      <td>0</td>\n",
       "      <td>monthly-download-speeds</td>\n",
       "      <td>1.652279e+09</td>\n",
       "      <td>2022-05-11 07:30:09</td>\n",
       "      <td>Marlene Wendl</td>\n",
       "      <td>Hi,  I'm looking for monthly average mobile do...</td>\n",
       "      <td>{0: {'username': 'laurent smeets', 'response_d...</td>\n",
       "    </tr>\n",
       "    <tr>\n",
       "      <th>1</th>\n",
       "      <td>1</td>\n",
       "      <td>new-ookla-speedtest-app-for-ios</td>\n",
       "      <td>1.652279e+09</td>\n",
       "      <td>2022-05-11 07:30:12</td>\n",
       "      <td>Dave Taht</td>\n",
       "      <td>The latest ookla speedtest app (just for apple...</td>\n",
       "      <td>{}</td>\n",
       "    </tr>\n",
       "    <tr>\n",
       "      <th>2</th>\n",
       "      <td>2</td>\n",
       "      <td>hiccup-on-denver-pod?</td>\n",
       "      <td>1.646346e+09</td>\n",
       "      <td>2022-03-03 15:25:20</td>\n",
       "      <td>Glenn Fishbine</td>\n",
       "      <td>We had some unusual results come back today fr...</td>\n",
       "      <td>{0: {'username': 'Nathan Kinkade', 'response_d...</td>\n",
       "    </tr>\n",
       "    <tr>\n",
       "      <th>3</th>\n",
       "      <td>3</td>\n",
       "      <td>itu-standards</td>\n",
       "      <td>1.651252e+09</td>\n",
       "      <td>2022-04-29 10:01:25</td>\n",
       "      <td>Bobby Wilson</td>\n",
       "      <td>Hi there,  I am working with a group that is i...</td>\n",
       "      <td>{0: {'username': 'Lai Yi Ohlsen', 'response_da...</td>\n",
       "    </tr>\n",
       "    <tr>\n",
       "      <th>4</th>\n",
       "      <td>4</td>\n",
       "      <td>ndt7-client-go-client-\"-server\"-option-error</td>\n",
       "      <td>1.651072e+09</td>\n",
       "      <td>2022-04-27 08:12:46</td>\n",
       "      <td>frog...@gmail.com</td>\n",
       "      <td>Hi, It looks like the -server option in ndt7-c...</td>\n",
       "      <td>{}</td>\n",
       "    </tr>\n",
       "  </tbody>\n",
       "</table>\n",
       "</div>"
      ],
      "text/plain": [
       "   post_id                                         title    date_epoch  \\\n",
       "0        0                       monthly-download-speeds  1.652279e+09   \n",
       "1        1               new-ookla-speedtest-app-for-ios  1.652279e+09   \n",
       "2        2                         hiccup-on-denver-pod?  1.646346e+09   \n",
       "3        3                                 itu-standards  1.651252e+09   \n",
       "4        4  ndt7-client-go-client-\"-server\"-option-error  1.651072e+09   \n",
       "\n",
       "              date_ymd             author  \\\n",
       "0  2022-05-11 07:30:09      Marlene Wendl   \n",
       "1  2022-05-11 07:30:12          Dave Taht   \n",
       "2  2022-03-03 15:25:20     Glenn Fishbine   \n",
       "3  2022-04-29 10:01:25       Bobby Wilson   \n",
       "4  2022-04-27 08:12:46  frog...@gmail.com   \n",
       "\n",
       "                                             content  \\\n",
       "0  Hi,  I'm looking for monthly average mobile do...   \n",
       "1  The latest ookla speedtest app (just for apple...   \n",
       "2  We had some unusual results come back today fr...   \n",
       "3  Hi there,  I am working with a group that is i...   \n",
       "4  Hi, It looks like the -server option in ndt7-c...   \n",
       "\n",
       "                                             replies  \n",
       "0  {0: {'username': 'laurent smeets', 'response_d...  \n",
       "1                                                 {}  \n",
       "2  {0: {'username': 'Nathan Kinkade', 'response_d...  \n",
       "3  {0: {'username': 'Lai Yi Ohlsen', 'response_da...  \n",
       "4                                                 {}  "
      ]
     },
     "execution_count": 2,
     "metadata": {},
     "output_type": "execute_result"
    }
   ],
   "source": [
    "data = pd.read_csv(csv_file, sep='\\t')\n",
    "data.head()"
   ]
  },
  {
   "cell_type": "markdown",
   "metadata": {},
   "source": [
    "For this stage of the analysis, We're going to drop excess metadata and only focus on the content of each post."
   ]
  },
  {
   "cell_type": "code",
   "execution_count": 3,
   "metadata": {},
   "outputs": [
    {
     "data": {
      "text/html": [
       "<div>\n",
       "<style scoped>\n",
       "    .dataframe tbody tr th:only-of-type {\n",
       "        vertical-align: middle;\n",
       "    }\n",
       "\n",
       "    .dataframe tbody tr th {\n",
       "        vertical-align: top;\n",
       "    }\n",
       "\n",
       "    .dataframe thead th {\n",
       "        text-align: right;\n",
       "    }\n",
       "</style>\n",
       "<table border=\"1\" class=\"dataframe\">\n",
       "  <thead>\n",
       "    <tr style=\"text-align: right;\">\n",
       "      <th></th>\n",
       "      <th>title</th>\n",
       "      <th>date_ymd</th>\n",
       "      <th>author</th>\n",
       "      <th>content</th>\n",
       "    </tr>\n",
       "  </thead>\n",
       "  <tbody>\n",
       "    <tr>\n",
       "      <th>0</th>\n",
       "      <td>monthly-download-speeds</td>\n",
       "      <td>2022-05-11 07:30:09</td>\n",
       "      <td>Marlene Wendl</td>\n",
       "      <td>Hi,  I'm looking for monthly average mobile do...</td>\n",
       "    </tr>\n",
       "    <tr>\n",
       "      <th>1</th>\n",
       "      <td>new-ookla-speedtest-app-for-ios</td>\n",
       "      <td>2022-05-11 07:30:12</td>\n",
       "      <td>Dave Taht</td>\n",
       "      <td>The latest ookla speedtest app (just for apple...</td>\n",
       "    </tr>\n",
       "    <tr>\n",
       "      <th>2</th>\n",
       "      <td>hiccup-on-denver-pod?</td>\n",
       "      <td>2022-03-03 15:25:20</td>\n",
       "      <td>Glenn Fishbine</td>\n",
       "      <td>We had some unusual results come back today fr...</td>\n",
       "    </tr>\n",
       "    <tr>\n",
       "      <th>3</th>\n",
       "      <td>itu-standards</td>\n",
       "      <td>2022-04-29 10:01:25</td>\n",
       "      <td>Bobby Wilson</td>\n",
       "      <td>Hi there,  I am working with a group that is i...</td>\n",
       "    </tr>\n",
       "    <tr>\n",
       "      <th>4</th>\n",
       "      <td>ndt7-client-go-client-\"-server\"-option-error</td>\n",
       "      <td>2022-04-27 08:12:46</td>\n",
       "      <td>frog...@gmail.com</td>\n",
       "      <td>Hi, It looks like the -server option in ndt7-c...</td>\n",
       "    </tr>\n",
       "  </tbody>\n",
       "</table>\n",
       "</div>"
      ],
      "text/plain": [
       "                                          title             date_ymd  \\\n",
       "0                       monthly-download-speeds  2022-05-11 07:30:09   \n",
       "1               new-ookla-speedtest-app-for-ios  2022-05-11 07:30:12   \n",
       "2                         hiccup-on-denver-pod?  2022-03-03 15:25:20   \n",
       "3                                 itu-standards  2022-04-29 10:01:25   \n",
       "4  ndt7-client-go-client-\"-server\"-option-error  2022-04-27 08:12:46   \n",
       "\n",
       "              author                                            content  \n",
       "0      Marlene Wendl  Hi,  I'm looking for monthly average mobile do...  \n",
       "1          Dave Taht  The latest ookla speedtest app (just for apple...  \n",
       "2     Glenn Fishbine  We had some unusual results come back today fr...  \n",
       "3       Bobby Wilson  Hi there,  I am working with a group that is i...  \n",
       "4  frog...@gmail.com  Hi, It looks like the -server option in ndt7-c...  "
      ]
     },
     "execution_count": 3,
     "metadata": {},
     "output_type": "execute_result"
    }
   ],
   "source": [
    "dropped_data = data.drop(columns=['post_id', 'replies', 'date_epoch'])\n",
    "dropped_data.head()"
   ]
  },
  {
   "cell_type": "code",
   "execution_count": 4,
   "metadata": {},
   "outputs": [
    {
     "data": {
      "text/plain": [
       "0    hi  im looking for monthly average mobile down...\n",
       "1    the latest ookla speedtest app just for apples...\n",
       "2    we had some unusual results come back today fr...\n",
       "3    hi there  i am working with a group that is in...\n",
       "4    hi it looks like the server option in ndt7clie...\n",
       "Name: sanitized_content, dtype: object"
      ]
     },
     "execution_count": 4,
     "metadata": {},
     "output_type": "execute_result"
    }
   ],
   "source": [
    "import string\n",
    "\n",
    "def remove_punctuations(text):\n",
    "    for punctuation in string.punctuation:\n",
    "        text = text.replace(punctuation, '')\n",
    "    return text\n",
    "\n",
    "# remove punctuation from the text\n",
    "dropped_data['sanitized_content'] = dropped_data[\"content\"].astype(dtype=str).map(lambda x: remove_punctuations(x))\n",
    "\n",
    "# Convert all text content to lowercase\n",
    "dropped_data['sanitized_content'] = dropped_data['sanitized_content'].map(lambda x: x.lower())\n",
    "\n",
    "dropped_data['sanitized_content'].head()"
   ]
  },
  {
   "cell_type": "markdown",
   "metadata": {},
   "source": [
    "Following the article, I'm going to use the wordcloud library to take a peek at the output and make sure there isnt anything else that needs sanitizing"
   ]
  },
  {
   "cell_type": "code",
   "execution_count": 5,
   "metadata": {},
   "outputs": [
    {
     "data": {
      "image/png": "[encoded data removed]",
      "text/plain": [
       "<PIL.Image.Image image mode=RGB size=400x200>"
      ]
     },
     "execution_count": 5,
     "metadata": {},
     "output_type": "execute_result"
    }
   ],
   "source": [
    "from wordcloud import WordCloud\n",
    "long_string = ','.join(list(dropped_data['sanitized_content'].values))\n",
    "\n",
    "wordcloud = WordCloud(background_color=\"white\", contour_width=5, contour_color='steelblue')\n",
    "\n",
    "wordcloud.generate(long_string)\n",
    "\n",
    "wordcloud.to_image()\n",
    "\n"
   ]
  },
  {
   "cell_type": "markdown",
   "metadata": {},
   "source": [
    "Now we get into the meat and potatoes! This next step will handle: Tokenization -> Removing Stopwords -> generate corpus"
   ]
  },
  {
   "cell_type": "code",
   "execution_count": 9,
   "metadata": {},
   "outputs": [
    {
     "name": "stderr",
     "output_type": "stream",
     "text": [
      "[nltk_data] Downloading package stopwords to\n",
      "[nltk_data]     /home/quinton/nltk_data...\n",
      "[nltk_data]   Package stopwords is already up-to-date!\n"
     ]
    },
    {
     "name": "stdout",
     "output_type": "stream",
     "text": [
      "['hi', 'im', 'looking', 'monthly', 'average', 'mobile', 'download', 'speed', 'data', 'country', 'specifcally', 'onwards', 'earlier', 'better', 'though', 'far', 'ive', 'able', 'find', 'data', 'anyone', 'help', 'id', 'really', 'greatful', 'advice', 'thanks', 'advance']\n",
      "Dictionary<4722 unique tokens: ['able', 'advance', 'advice', 'anyone', 'average']...>\n",
      "[(0, 1), (1, 1), (2, 1), (3, 1), (4, 1), (5, 1), (6, 1), (7, 2), (8, 1), (9, 1), (10, 1), (11, 1), (12, 1), (13, 1), (14, 1), (15, 1), (16, 1), (17, 1), (18, 1), (19, 1), (20, 1), (21, 1), (22, 1), (23, 1), (24, 1), (25, 1), (26, 1)]\n"
     ]
    }
   ],
   "source": [
    "from nltk.corpus import stopwords\n",
    "import nltk\n",
    "import gensim\n",
    "from gensim.utils import simple_preprocess\n",
    "nltk.download('stopwords')\n",
    "import gensim.corpora as corpora\n",
    "\n",
    "stop_words = set(stopwords.words('english'))\n",
    "\n",
    "def sent_to_words(sentences):\n",
    "    for sentence in sentences:\n",
    "        # deacc=True removes punctuations\n",
    "        yield(gensim.utils.simple_preprocess(str(sentence), deacc=True))\n",
    "def remove_stopwords(texts):\n",
    "    return [[word for word in simple_preprocess(str(doc)) if word not in stop_words] for doc in texts]\n",
    "data = dropped_data.sanitized_content.values.tolist()\n",
    "data_words = list(sent_to_words(data))\n",
    "# remove stop words\n",
    "data_words = remove_stopwords(data_words)\n",
    "print(data_words[:1][0][:30]) # just to see how its working\n",
    "\n",
    "# Create Dictionary\n",
    "id2word = corpora.Dictionary(data_words)\n",
    "print(id2word)\n",
    "# Create Corpus\n",
    "texts = data_words\n",
    "# Term Document Frequency\n",
    "corpus = [id2word.doc2bow(text) for text in texts]\n",
    "# View\n",
    "print(corpus[:1][0][:30])\n",
    "\n"
   ]
  },
  {
   "cell_type": "code",
   "execution_count": null,
   "metadata": {},
   "outputs": [],
   "source": []
  }
 ],
 "metadata": {
  "kernelspec": {
   "display_name": "Python 3.10.4 ('.venv': poetry)",
   "language": "python",
   "name": "python3"
  },
  "language_info": {
   "codemirror_mode": {
    "name": "ipython",
    "version": 3
   },
   "file_extension": ".py",
   "mimetype": "text/x-python",
   "name": "python",
   "nbconvert_exporter": "python",
   "pygments_lexer": "ipython3",
   "version": "3.9.13"
  },
  "orig_nbformat": 4,
  "vscode": {
   "interpreter": {
    "hash": "4c5dead150009e5e1e07884eb12a4432ae3c10f920504db7ab05ae3d79820a26"
   }
  }
 },
 "nbformat": 4,
 "nbformat_minor": 2
}
